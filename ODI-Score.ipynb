{
 "cells": [
  {
   "cell_type": "markdown",
   "metadata": {},
   "source": []
  },
  {
   "cell_type": "markdown",
   "metadata": {},
   "source": [
    "### Predict the first Innings score in a ODI\n",
    "\n",
    "1. Load the dataset from the csv file.\n",
    "2. Use “groupby” operation, to find the average number of runs, scored by each country,\n",
    "and represent it on a bar graph.\n",
    "3. Handle Missing values:\n",
    "a. If there are null values in continuous numerical column, replace the null values by\n",
    "the mean of that column\n",
    "b. If there are null values in ordinal numerical column, replace the null values by the\n",
    "mode of that column\n",
    "c. If there are null values in categorical column, replace the null values by the mode\n",
    "of that column\n",
    "d. If more than 50%the values in a column are null, then drop that entire column\n",
    "4. Remove the columns, that you think, do not contribute to the total score, in the first\n",
    "innings.\n",
    "5. Convert the categorical columns (if any), to numeric, using one hot encoding/ dummy\n",
    "encoding.\n",
    "6. Pick “total” column, as the target variable\n",
    "7. Select the relevant features.\n",
    "8. Perform train-test-split\n",
    "9. Perform Feature scaling\n",
    "10. Use\n",
    "a. Use Linear Regression\n",
    "b. Use Decision Tree Regression\n",
    "c. Use Random Forest Regression\n",
    "11. Evaluate the model\n",
    "12. Apply prediction"
   ]
  },
  {
   "cell_type": "markdown",
   "metadata": {},
   "source": [
    "#### Import all required packages"
   ]
  },
  {
   "cell_type": "code",
   "execution_count": 1,
   "metadata": {},
   "outputs": [],
   "source": [
    "import numpy as np\n",
    "import pandas as pd\n",
    "\n",
    "# To visualize the data\n",
    "import matplotlib.pyplot as plt\n",
    "from matplotlib.pyplot import xticks\n",
    "import seaborn as sns\n",
    "%matplotlib inline\n",
    "\n",
    "# To Scale the data\n",
    "from sklearn import preprocessing\n",
    "from sklearn.preprocessing import scale\n",
    "from sklearn.preprocessing import MinMaxScaler\n",
    "from sklearn.preprocessing import StandardScaler\n",
    "\n",
    "# To build the model\n",
    "from sklearn.linear_model import LinearRegression\n",
    "from sklearn.model_selection import train_test_split\n",
    "import xgboost as xgb\n",
    "from sklearn import metrics\n",
    "from sklearn.tree import DecisionTreeRegressor\n",
    "from sklearn.ensemble import RandomForestRegressor \n",
    "from sklearn.metrics import r2_score\n",
    "\n",
    "# Supress warnings\n",
    "import warnings\n",
    "warnings.filterwarnings('ignore')"
   ]
  },
  {
   "cell_type": "markdown",
   "metadata": {},
   "source": [
    "## 1. Load the dataset from the csv file."
   ]
  },
  {
   "cell_type": "code",
   "execution_count": 2,
   "metadata": {},
   "outputs": [
    {
     "data": {
      "text/html": [
       "<div>\n",
       "<style scoped>\n",
       "    .dataframe tbody tr th:only-of-type {\n",
       "        vertical-align: middle;\n",
       "    }\n",
       "\n",
       "    .dataframe tbody tr th {\n",
       "        vertical-align: top;\n",
       "    }\n",
       "\n",
       "    .dataframe thead th {\n",
       "        text-align: right;\n",
       "    }\n",
       "</style>\n",
       "<table border=\"1\" class=\"dataframe\">\n",
       "  <thead>\n",
       "    <tr style=\"text-align: right;\">\n",
       "      <th></th>\n",
       "      <th>mid</th>\n",
       "      <th>date</th>\n",
       "      <th>venue</th>\n",
       "      <th>bat_team</th>\n",
       "      <th>bowl_team</th>\n",
       "      <th>batsman</th>\n",
       "      <th>bowler</th>\n",
       "      <th>runs</th>\n",
       "      <th>wickets</th>\n",
       "      <th>overs</th>\n",
       "      <th>runs_last_5</th>\n",
       "      <th>wickets_last_5</th>\n",
       "      <th>striker</th>\n",
       "      <th>non-striker</th>\n",
       "      <th>total</th>\n",
       "    </tr>\n",
       "  </thead>\n",
       "  <tbody>\n",
       "    <tr>\n",
       "      <th>0</th>\n",
       "      <td>1</td>\n",
       "      <td>2006-06-13</td>\n",
       "      <td>Civil Service Cricket Club, Stormont</td>\n",
       "      <td>England</td>\n",
       "      <td>Ireland</td>\n",
       "      <td>ME Trescothick</td>\n",
       "      <td>DT Johnston</td>\n",
       "      <td>0</td>\n",
       "      <td>0</td>\n",
       "      <td>0.1</td>\n",
       "      <td>0</td>\n",
       "      <td>0</td>\n",
       "      <td>0</td>\n",
       "      <td>0</td>\n",
       "      <td>301</td>\n",
       "    </tr>\n",
       "    <tr>\n",
       "      <th>1</th>\n",
       "      <td>1</td>\n",
       "      <td>2006-06-13</td>\n",
       "      <td>Civil Service Cricket Club, Stormont</td>\n",
       "      <td>England</td>\n",
       "      <td>Ireland</td>\n",
       "      <td>ME Trescothick</td>\n",
       "      <td>DT Johnston</td>\n",
       "      <td>0</td>\n",
       "      <td>0</td>\n",
       "      <td>0.2</td>\n",
       "      <td>0</td>\n",
       "      <td>0</td>\n",
       "      <td>0</td>\n",
       "      <td>0</td>\n",
       "      <td>301</td>\n",
       "    </tr>\n",
       "    <tr>\n",
       "      <th>2</th>\n",
       "      <td>1</td>\n",
       "      <td>2006-06-13</td>\n",
       "      <td>Civil Service Cricket Club, Stormont</td>\n",
       "      <td>England</td>\n",
       "      <td>Ireland</td>\n",
       "      <td>ME Trescothick</td>\n",
       "      <td>DT Johnston</td>\n",
       "      <td>4</td>\n",
       "      <td>0</td>\n",
       "      <td>0.3</td>\n",
       "      <td>4</td>\n",
       "      <td>0</td>\n",
       "      <td>0</td>\n",
       "      <td>0</td>\n",
       "      <td>301</td>\n",
       "    </tr>\n",
       "    <tr>\n",
       "      <th>3</th>\n",
       "      <td>1</td>\n",
       "      <td>2006-06-13</td>\n",
       "      <td>Civil Service Cricket Club, Stormont</td>\n",
       "      <td>England</td>\n",
       "      <td>Ireland</td>\n",
       "      <td>ME Trescothick</td>\n",
       "      <td>DT Johnston</td>\n",
       "      <td>6</td>\n",
       "      <td>0</td>\n",
       "      <td>0.4</td>\n",
       "      <td>6</td>\n",
       "      <td>0</td>\n",
       "      <td>0</td>\n",
       "      <td>0</td>\n",
       "      <td>301</td>\n",
       "    </tr>\n",
       "    <tr>\n",
       "      <th>4</th>\n",
       "      <td>1</td>\n",
       "      <td>2006-06-13</td>\n",
       "      <td>Civil Service Cricket Club, Stormont</td>\n",
       "      <td>England</td>\n",
       "      <td>Ireland</td>\n",
       "      <td>ME Trescothick</td>\n",
       "      <td>DT Johnston</td>\n",
       "      <td>6</td>\n",
       "      <td>0</td>\n",
       "      <td>0.5</td>\n",
       "      <td>6</td>\n",
       "      <td>0</td>\n",
       "      <td>0</td>\n",
       "      <td>0</td>\n",
       "      <td>301</td>\n",
       "    </tr>\n",
       "    <tr>\n",
       "      <th>5</th>\n",
       "      <td>1</td>\n",
       "      <td>2006-06-13</td>\n",
       "      <td>Civil Service Cricket Club, Stormont</td>\n",
       "      <td>England</td>\n",
       "      <td>Ireland</td>\n",
       "      <td>ME Trescothick</td>\n",
       "      <td>DT Johnston</td>\n",
       "      <td>6</td>\n",
       "      <td>0</td>\n",
       "      <td>0.6</td>\n",
       "      <td>6</td>\n",
       "      <td>0</td>\n",
       "      <td>0</td>\n",
       "      <td>0</td>\n",
       "      <td>301</td>\n",
       "    </tr>\n",
       "    <tr>\n",
       "      <th>6</th>\n",
       "      <td>1</td>\n",
       "      <td>2006-06-13</td>\n",
       "      <td>Civil Service Cricket Club, Stormont</td>\n",
       "      <td>England</td>\n",
       "      <td>Ireland</td>\n",
       "      <td>EC Joyce</td>\n",
       "      <td>D Langford-Smith</td>\n",
       "      <td>6</td>\n",
       "      <td>0</td>\n",
       "      <td>1.1</td>\n",
       "      <td>6</td>\n",
       "      <td>0</td>\n",
       "      <td>0</td>\n",
       "      <td>0</td>\n",
       "      <td>301</td>\n",
       "    </tr>\n",
       "    <tr>\n",
       "      <th>7</th>\n",
       "      <td>1</td>\n",
       "      <td>2006-06-13</td>\n",
       "      <td>Civil Service Cricket Club, Stormont</td>\n",
       "      <td>England</td>\n",
       "      <td>Ireland</td>\n",
       "      <td>EC Joyce</td>\n",
       "      <td>D Langford-Smith</td>\n",
       "      <td>6</td>\n",
       "      <td>0</td>\n",
       "      <td>1.2</td>\n",
       "      <td>6</td>\n",
       "      <td>0</td>\n",
       "      <td>0</td>\n",
       "      <td>0</td>\n",
       "      <td>301</td>\n",
       "    </tr>\n",
       "    <tr>\n",
       "      <th>8</th>\n",
       "      <td>1</td>\n",
       "      <td>2006-06-13</td>\n",
       "      <td>Civil Service Cricket Club, Stormont</td>\n",
       "      <td>England</td>\n",
       "      <td>Ireland</td>\n",
       "      <td>EC Joyce</td>\n",
       "      <td>D Langford-Smith</td>\n",
       "      <td>6</td>\n",
       "      <td>0</td>\n",
       "      <td>1.3</td>\n",
       "      <td>6</td>\n",
       "      <td>0</td>\n",
       "      <td>0</td>\n",
       "      <td>0</td>\n",
       "      <td>301</td>\n",
       "    </tr>\n",
       "    <tr>\n",
       "      <th>9</th>\n",
       "      <td>1</td>\n",
       "      <td>2006-06-13</td>\n",
       "      <td>Civil Service Cricket Club, Stormont</td>\n",
       "      <td>England</td>\n",
       "      <td>Ireland</td>\n",
       "      <td>EC Joyce</td>\n",
       "      <td>D Langford-Smith</td>\n",
       "      <td>7</td>\n",
       "      <td>0</td>\n",
       "      <td>1.3</td>\n",
       "      <td>7</td>\n",
       "      <td>0</td>\n",
       "      <td>0</td>\n",
       "      <td>0</td>\n",
       "      <td>301</td>\n",
       "    </tr>\n",
       "  </tbody>\n",
       "</table>\n",
       "</div>"
      ],
      "text/plain": [
       "   mid        date                                 venue bat_team bowl_team  \\\n",
       "0    1  2006-06-13  Civil Service Cricket Club, Stormont  England   Ireland   \n",
       "1    1  2006-06-13  Civil Service Cricket Club, Stormont  England   Ireland   \n",
       "2    1  2006-06-13  Civil Service Cricket Club, Stormont  England   Ireland   \n",
       "3    1  2006-06-13  Civil Service Cricket Club, Stormont  England   Ireland   \n",
       "4    1  2006-06-13  Civil Service Cricket Club, Stormont  England   Ireland   \n",
       "5    1  2006-06-13  Civil Service Cricket Club, Stormont  England   Ireland   \n",
       "6    1  2006-06-13  Civil Service Cricket Club, Stormont  England   Ireland   \n",
       "7    1  2006-06-13  Civil Service Cricket Club, Stormont  England   Ireland   \n",
       "8    1  2006-06-13  Civil Service Cricket Club, Stormont  England   Ireland   \n",
       "9    1  2006-06-13  Civil Service Cricket Club, Stormont  England   Ireland   \n",
       "\n",
       "          batsman            bowler  runs  wickets  overs  runs_last_5  \\\n",
       "0  ME Trescothick       DT Johnston     0        0    0.1            0   \n",
       "1  ME Trescothick       DT Johnston     0        0    0.2            0   \n",
       "2  ME Trescothick       DT Johnston     4        0    0.3            4   \n",
       "3  ME Trescothick       DT Johnston     6        0    0.4            6   \n",
       "4  ME Trescothick       DT Johnston     6        0    0.5            6   \n",
       "5  ME Trescothick       DT Johnston     6        0    0.6            6   \n",
       "6        EC Joyce  D Langford-Smith     6        0    1.1            6   \n",
       "7        EC Joyce  D Langford-Smith     6        0    1.2            6   \n",
       "8        EC Joyce  D Langford-Smith     6        0    1.3            6   \n",
       "9        EC Joyce  D Langford-Smith     7        0    1.3            7   \n",
       "\n",
       "   wickets_last_5  striker  non-striker  total  \n",
       "0               0        0            0    301  \n",
       "1               0        0            0    301  \n",
       "2               0        0            0    301  \n",
       "3               0        0            0    301  \n",
       "4               0        0            0    301  \n",
       "5               0        0            0    301  \n",
       "6               0        0            0    301  \n",
       "7               0        0            0    301  \n",
       "8               0        0            0    301  \n",
       "9               0        0            0    301  "
      ]
     },
     "execution_count": 2,
     "metadata": {},
     "output_type": "execute_result"
    }
   ],
   "source": [
    "odi_data =pd.read_csv(r\"C:\\Users\\sandeep kumar\\Documents\\odi.csv\")\n",
    "odi_data.head(10)"
   ]
  },
  {
   "cell_type": "code",
   "execution_count": 3,
   "metadata": {},
   "outputs": [
    {
     "data": {
      "text/html": [
       "<div>\n",
       "<style scoped>\n",
       "    .dataframe tbody tr th:only-of-type {\n",
       "        vertical-align: middle;\n",
       "    }\n",
       "\n",
       "    .dataframe tbody tr th {\n",
       "        vertical-align: top;\n",
       "    }\n",
       "\n",
       "    .dataframe thead th {\n",
       "        text-align: right;\n",
       "    }\n",
       "</style>\n",
       "<table border=\"1\" class=\"dataframe\">\n",
       "  <thead>\n",
       "    <tr style=\"text-align: right;\">\n",
       "      <th></th>\n",
       "      <th>mid</th>\n",
       "      <th>runs</th>\n",
       "      <th>wickets</th>\n",
       "      <th>overs</th>\n",
       "      <th>runs_last_5</th>\n",
       "      <th>wickets_last_5</th>\n",
       "      <th>striker</th>\n",
       "      <th>non-striker</th>\n",
       "      <th>total</th>\n",
       "    </tr>\n",
       "  </thead>\n",
       "  <tbody>\n",
       "    <tr>\n",
       "      <th>count</th>\n",
       "      <td>350899.000000</td>\n",
       "      <td>350899.000000</td>\n",
       "      <td>350899.000000</td>\n",
       "      <td>350899.000000</td>\n",
       "      <td>350899.000000</td>\n",
       "      <td>350899.000000</td>\n",
       "      <td>350899.000000</td>\n",
       "      <td>350899.000000</td>\n",
       "      <td>350899.000000</td>\n",
       "    </tr>\n",
       "    <tr>\n",
       "      <th>mean</th>\n",
       "      <td>594.360426</td>\n",
       "      <td>114.801661</td>\n",
       "      <td>2.974970</td>\n",
       "      <td>24.052899</td>\n",
       "      <td>23.548303</td>\n",
       "      <td>0.669814</td>\n",
       "      <td>35.180129</td>\n",
       "      <td>12.427944</td>\n",
       "      <td>255.355387</td>\n",
       "    </tr>\n",
       "    <tr>\n",
       "      <th>std</th>\n",
       "      <td>343.605128</td>\n",
       "      <td>77.665959</td>\n",
       "      <td>2.298959</td>\n",
       "      <td>14.235439</td>\n",
       "      <td>11.042974</td>\n",
       "      <td>0.833895</td>\n",
       "      <td>28.115264</td>\n",
       "      <td>15.019181</td>\n",
       "      <td>62.354412</td>\n",
       "    </tr>\n",
       "    <tr>\n",
       "      <th>min</th>\n",
       "      <td>1.000000</td>\n",
       "      <td>0.000000</td>\n",
       "      <td>0.000000</td>\n",
       "      <td>0.000000</td>\n",
       "      <td>0.000000</td>\n",
       "      <td>0.000000</td>\n",
       "      <td>0.000000</td>\n",
       "      <td>0.000000</td>\n",
       "      <td>44.000000</td>\n",
       "    </tr>\n",
       "    <tr>\n",
       "      <th>25%</th>\n",
       "      <td>296.000000</td>\n",
       "      <td>51.000000</td>\n",
       "      <td>1.000000</td>\n",
       "      <td>11.600000</td>\n",
       "      <td>17.000000</td>\n",
       "      <td>0.000000</td>\n",
       "      <td>13.000000</td>\n",
       "      <td>2.000000</td>\n",
       "      <td>217.000000</td>\n",
       "    </tr>\n",
       "    <tr>\n",
       "      <th>50%</th>\n",
       "      <td>596.000000</td>\n",
       "      <td>105.000000</td>\n",
       "      <td>3.000000</td>\n",
       "      <td>23.600000</td>\n",
       "      <td>23.000000</td>\n",
       "      <td>0.000000</td>\n",
       "      <td>29.000000</td>\n",
       "      <td>7.000000</td>\n",
       "      <td>257.000000</td>\n",
       "    </tr>\n",
       "    <tr>\n",
       "      <th>75%</th>\n",
       "      <td>893.000000</td>\n",
       "      <td>168.000000</td>\n",
       "      <td>4.000000</td>\n",
       "      <td>36.200000</td>\n",
       "      <td>29.000000</td>\n",
       "      <td>1.000000</td>\n",
       "      <td>50.000000</td>\n",
       "      <td>18.000000</td>\n",
       "      <td>298.000000</td>\n",
       "    </tr>\n",
       "    <tr>\n",
       "      <th>max</th>\n",
       "      <td>1188.000000</td>\n",
       "      <td>444.000000</td>\n",
       "      <td>10.000000</td>\n",
       "      <td>49.600000</td>\n",
       "      <td>101.000000</td>\n",
       "      <td>7.000000</td>\n",
       "      <td>264.000000</td>\n",
       "      <td>149.000000</td>\n",
       "      <td>444.000000</td>\n",
       "    </tr>\n",
       "  </tbody>\n",
       "</table>\n",
       "</div>"
      ],
      "text/plain": [
       "                 mid           runs        wickets          overs  \\\n",
       "count  350899.000000  350899.000000  350899.000000  350899.000000   \n",
       "mean      594.360426     114.801661       2.974970      24.052899   \n",
       "std       343.605128      77.665959       2.298959      14.235439   \n",
       "min         1.000000       0.000000       0.000000       0.000000   \n",
       "25%       296.000000      51.000000       1.000000      11.600000   \n",
       "50%       596.000000     105.000000       3.000000      23.600000   \n",
       "75%       893.000000     168.000000       4.000000      36.200000   \n",
       "max      1188.000000     444.000000      10.000000      49.600000   \n",
       "\n",
       "         runs_last_5  wickets_last_5        striker    non-striker  \\\n",
       "count  350899.000000   350899.000000  350899.000000  350899.000000   \n",
       "mean       23.548303        0.669814      35.180129      12.427944   \n",
       "std        11.042974        0.833895      28.115264      15.019181   \n",
       "min         0.000000        0.000000       0.000000       0.000000   \n",
       "25%        17.000000        0.000000      13.000000       2.000000   \n",
       "50%        23.000000        0.000000      29.000000       7.000000   \n",
       "75%        29.000000        1.000000      50.000000      18.000000   \n",
       "max       101.000000        7.000000     264.000000     149.000000   \n",
       "\n",
       "               total  \n",
       "count  350899.000000  \n",
       "mean      255.355387  \n",
       "std        62.354412  \n",
       "min        44.000000  \n",
       "25%       217.000000  \n",
       "50%       257.000000  \n",
       "75%       298.000000  \n",
       "max       444.000000  "
      ]
     },
     "execution_count": 3,
     "metadata": {},
     "output_type": "execute_result"
    }
   ],
   "source": [
    "#Describing the datasets\n",
    "\n",
    "odi_data.describe()"
   ]
  },
  {
   "cell_type": "code",
   "execution_count": 4,
   "metadata": {},
   "outputs": [
    {
     "name": "stdout",
     "output_type": "stream",
     "text": [
      "<class 'pandas.core.frame.DataFrame'>\n",
      "RangeIndex: 350899 entries, 0 to 350898\n",
      "Data columns (total 15 columns):\n",
      " #   Column          Non-Null Count   Dtype  \n",
      "---  ------          --------------   -----  \n",
      " 0   mid             350899 non-null  int64  \n",
      " 1   date            350899 non-null  object \n",
      " 2   venue           350899 non-null  object \n",
      " 3   bat_team        350899 non-null  object \n",
      " 4   bowl_team       350899 non-null  object \n",
      " 5   batsman         350899 non-null  object \n",
      " 6   bowler          350899 non-null  object \n",
      " 7   runs            350899 non-null  int64  \n",
      " 8   wickets         350899 non-null  int64  \n",
      " 9   overs           350899 non-null  float64\n",
      " 10  runs_last_5     350899 non-null  int64  \n",
      " 11  wickets_last_5  350899 non-null  int64  \n",
      " 12  striker         350899 non-null  int64  \n",
      " 13  non-striker     350899 non-null  int64  \n",
      " 14  total           350899 non-null  int64  \n",
      "dtypes: float64(1), int64(8), object(6)\n",
      "memory usage: 40.2+ MB\n"
     ]
    }
   ],
   "source": [
    "odi_data.info()"
   ]
  },
  {
   "cell_type": "code",
   "execution_count": 5,
   "metadata": {},
   "outputs": [
    {
     "data": {
      "text/html": [
       "<div>\n",
       "<style scoped>\n",
       "    .dataframe tbody tr th:only-of-type {\n",
       "        vertical-align: middle;\n",
       "    }\n",
       "\n",
       "    .dataframe tbody tr th {\n",
       "        vertical-align: top;\n",
       "    }\n",
       "\n",
       "    .dataframe thead th {\n",
       "        text-align: right;\n",
       "    }\n",
       "</style>\n",
       "<table border=\"1\" class=\"dataframe\">\n",
       "  <thead>\n",
       "    <tr style=\"text-align: right;\">\n",
       "      <th></th>\n",
       "      <th></th>\n",
       "      <th>mid</th>\n",
       "      <th>date</th>\n",
       "      <th>venue</th>\n",
       "      <th>bowl_team</th>\n",
       "      <th>batsman</th>\n",
       "      <th>bowler</th>\n",
       "      <th>wickets</th>\n",
       "      <th>overs</th>\n",
       "      <th>runs_last_5</th>\n",
       "      <th>wickets_last_5</th>\n",
       "      <th>striker</th>\n",
       "      <th>non-striker</th>\n",
       "      <th>total</th>\n",
       "    </tr>\n",
       "    <tr>\n",
       "      <th>bat_team</th>\n",
       "      <th>runs</th>\n",
       "      <th></th>\n",
       "      <th></th>\n",
       "      <th></th>\n",
       "      <th></th>\n",
       "      <th></th>\n",
       "      <th></th>\n",
       "      <th></th>\n",
       "      <th></th>\n",
       "      <th></th>\n",
       "      <th></th>\n",
       "      <th></th>\n",
       "      <th></th>\n",
       "      <th></th>\n",
       "    </tr>\n",
       "  </thead>\n",
       "  <tbody>\n",
       "    <tr>\n",
       "      <th rowspan=\"5\" valign=\"top\">Afghanistan</th>\n",
       "      <th>0</th>\n",
       "      <td>363</td>\n",
       "      <td>2009-04-19</td>\n",
       "      <td>Willowmoore Park</td>\n",
       "      <td>Scotland</td>\n",
       "      <td>Noor Ali Zadran</td>\n",
       "      <td>JAR Blain</td>\n",
       "      <td>0</td>\n",
       "      <td>0.1</td>\n",
       "      <td>0</td>\n",
       "      <td>0</td>\n",
       "      <td>0</td>\n",
       "      <td>0</td>\n",
       "      <td>295</td>\n",
       "    </tr>\n",
       "    <tr>\n",
       "      <th>1</th>\n",
       "      <td>684</td>\n",
       "      <td>2012-03-29</td>\n",
       "      <td>Sharjah Cricket Stadium</td>\n",
       "      <td>Netherlands</td>\n",
       "      <td>Karim Sadiq</td>\n",
       "      <td>T van der Gugten</td>\n",
       "      <td>0</td>\n",
       "      <td>0.1</td>\n",
       "      <td>1</td>\n",
       "      <td>0</td>\n",
       "      <td>1</td>\n",
       "      <td>0</td>\n",
       "      <td>153</td>\n",
       "    </tr>\n",
       "    <tr>\n",
       "      <th>2</th>\n",
       "      <td>810</td>\n",
       "      <td>2015-02-22</td>\n",
       "      <td>University Oval</td>\n",
       "      <td>Sri Lanka</td>\n",
       "      <td>Nawroz Mangal</td>\n",
       "      <td>SL Malinga</td>\n",
       "      <td>0</td>\n",
       "      <td>2.6</td>\n",
       "      <td>2</td>\n",
       "      <td>0</td>\n",
       "      <td>2</td>\n",
       "      <td>0</td>\n",
       "      <td>232</td>\n",
       "    </tr>\n",
       "    <tr>\n",
       "      <th>3</th>\n",
       "      <td>889</td>\n",
       "      <td>2014-03-01</td>\n",
       "      <td>Khan Shaheb Osman Ali Stadium</td>\n",
       "      <td>Bangladesh</td>\n",
       "      <td>Karim Sadiq</td>\n",
       "      <td>Rubel Hossain</td>\n",
       "      <td>0</td>\n",
       "      <td>0.5</td>\n",
       "      <td>3</td>\n",
       "      <td>0</td>\n",
       "      <td>1</td>\n",
       "      <td>1</td>\n",
       "      <td>254</td>\n",
       "    </tr>\n",
       "    <tr>\n",
       "      <th>4</th>\n",
       "      <td>363</td>\n",
       "      <td>2009-04-19</td>\n",
       "      <td>Willowmoore Park</td>\n",
       "      <td>Scotland</td>\n",
       "      <td>Noor Ali Zadran</td>\n",
       "      <td>JAR Blain</td>\n",
       "      <td>0</td>\n",
       "      <td>0.2</td>\n",
       "      <td>4</td>\n",
       "      <td>0</td>\n",
       "      <td>4</td>\n",
       "      <td>0</td>\n",
       "      <td>295</td>\n",
       "    </tr>\n",
       "    <tr>\n",
       "      <th>...</th>\n",
       "      <th>...</th>\n",
       "      <td>...</td>\n",
       "      <td>...</td>\n",
       "      <td>...</td>\n",
       "      <td>...</td>\n",
       "      <td>...</td>\n",
       "      <td>...</td>\n",
       "      <td>...</td>\n",
       "      <td>...</td>\n",
       "      <td>...</td>\n",
       "      <td>...</td>\n",
       "      <td>...</td>\n",
       "      <td>...</td>\n",
       "      <td>...</td>\n",
       "    </tr>\n",
       "    <tr>\n",
       "      <th rowspan=\"5\" valign=\"top\">Zimbabwe</th>\n",
       "      <th>313</th>\n",
       "      <td>392</td>\n",
       "      <td>2009-08-14</td>\n",
       "      <td>Queens Sports Club</td>\n",
       "      <td>Bangladesh</td>\n",
       "      <td>S Matsikenyeri</td>\n",
       "      <td>Mahbubul Alam</td>\n",
       "      <td>5</td>\n",
       "      <td>48.5</td>\n",
       "      <td>59</td>\n",
       "      <td>1</td>\n",
       "      <td>61</td>\n",
       "      <td>17</td>\n",
       "      <td>323</td>\n",
       "    </tr>\n",
       "    <tr>\n",
       "      <th>319</th>\n",
       "      <td>392</td>\n",
       "      <td>2009-08-14</td>\n",
       "      <td>Queens Sports Club</td>\n",
       "      <td>Bangladesh</td>\n",
       "      <td>S Matsikenyeri</td>\n",
       "      <td>Shakib Al Hasan</td>\n",
       "      <td>5</td>\n",
       "      <td>49.6</td>\n",
       "      <td>65</td>\n",
       "      <td>1</td>\n",
       "      <td>61</td>\n",
       "      <td>23</td>\n",
       "      <td>323</td>\n",
       "    </tr>\n",
       "    <tr>\n",
       "      <th>320</th>\n",
       "      <td>392</td>\n",
       "      <td>2009-08-14</td>\n",
       "      <td>Queens Sports Club</td>\n",
       "      <td>Bangladesh</td>\n",
       "      <td>E Chigumbura</td>\n",
       "      <td>Shakib Al Hasan</td>\n",
       "      <td>6</td>\n",
       "      <td>49.2</td>\n",
       "      <td>65</td>\n",
       "      <td>2</td>\n",
       "      <td>61</td>\n",
       "      <td>0</td>\n",
       "      <td>323</td>\n",
       "    </tr>\n",
       "    <tr>\n",
       "      <th>322</th>\n",
       "      <td>392</td>\n",
       "      <td>2009-08-14</td>\n",
       "      <td>Queens Sports Club</td>\n",
       "      <td>Bangladesh</td>\n",
       "      <td>MN Waller</td>\n",
       "      <td>Shakib Al Hasan</td>\n",
       "      <td>6</td>\n",
       "      <td>49.3</td>\n",
       "      <td>61</td>\n",
       "      <td>2</td>\n",
       "      <td>61</td>\n",
       "      <td>2</td>\n",
       "      <td>323</td>\n",
       "    </tr>\n",
       "    <tr>\n",
       "      <th>323</th>\n",
       "      <td>392</td>\n",
       "      <td>2009-08-14</td>\n",
       "      <td>Queens Sports Club</td>\n",
       "      <td>Bangladesh</td>\n",
       "      <td>E Chigumbura</td>\n",
       "      <td>Shakib Al Hasan</td>\n",
       "      <td>7</td>\n",
       "      <td>49.5</td>\n",
       "      <td>54</td>\n",
       "      <td>3</td>\n",
       "      <td>61</td>\n",
       "      <td>0</td>\n",
       "      <td>323</td>\n",
       "    </tr>\n",
       "  </tbody>\n",
       "</table>\n",
       "<p>6662 rows × 13 columns</p>\n",
       "</div>"
      ],
      "text/plain": [
       "                  mid        date                          venue    bowl_team  \\\n",
       "bat_team    runs                                                                \n",
       "Afghanistan 0     363  2009-04-19               Willowmoore Park     Scotland   \n",
       "            1     684  2012-03-29        Sharjah Cricket Stadium  Netherlands   \n",
       "            2     810  2015-02-22                University Oval    Sri Lanka   \n",
       "            3     889  2014-03-01  Khan Shaheb Osman Ali Stadium   Bangladesh   \n",
       "            4     363  2009-04-19               Willowmoore Park     Scotland   \n",
       "...               ...         ...                            ...          ...   \n",
       "Zimbabwe    313   392  2009-08-14             Queens Sports Club   Bangladesh   \n",
       "            319   392  2009-08-14             Queens Sports Club   Bangladesh   \n",
       "            320   392  2009-08-14             Queens Sports Club   Bangladesh   \n",
       "            322   392  2009-08-14             Queens Sports Club   Bangladesh   \n",
       "            323   392  2009-08-14             Queens Sports Club   Bangladesh   \n",
       "\n",
       "                          batsman            bowler  wickets  overs  \\\n",
       "bat_team    runs                                                      \n",
       "Afghanistan 0     Noor Ali Zadran         JAR Blain        0    0.1   \n",
       "            1         Karim Sadiq  T van der Gugten        0    0.1   \n",
       "            2       Nawroz Mangal        SL Malinga        0    2.6   \n",
       "            3         Karim Sadiq     Rubel Hossain        0    0.5   \n",
       "            4     Noor Ali Zadran         JAR Blain        0    0.2   \n",
       "...                           ...               ...      ...    ...   \n",
       "Zimbabwe    313    S Matsikenyeri     Mahbubul Alam        5   48.5   \n",
       "            319    S Matsikenyeri   Shakib Al Hasan        5   49.6   \n",
       "            320      E Chigumbura   Shakib Al Hasan        6   49.2   \n",
       "            322         MN Waller   Shakib Al Hasan        6   49.3   \n",
       "            323      E Chigumbura   Shakib Al Hasan        7   49.5   \n",
       "\n",
       "                  runs_last_5  wickets_last_5  striker  non-striker  total  \n",
       "bat_team    runs                                                            \n",
       "Afghanistan 0               0               0        0            0    295  \n",
       "            1               1               0        1            0    153  \n",
       "            2               2               0        2            0    232  \n",
       "            3               3               0        1            1    254  \n",
       "            4               4               0        4            0    295  \n",
       "...                       ...             ...      ...          ...    ...  \n",
       "Zimbabwe    313            59               1       61           17    323  \n",
       "            319            65               1       61           23    323  \n",
       "            320            65               2       61            0    323  \n",
       "            322            61               2       61            2    323  \n",
       "            323            54               3       61            0    323  \n",
       "\n",
       "[6662 rows x 13 columns]"
      ]
     },
     "execution_count": 5,
     "metadata": {},
     "output_type": "execute_result"
    }
   ],
   "source": [
    "# applying groupby() function to group the data on 'date' value. \n",
    "gp = odi_data.groupby(['bat_team','runs']) \n",
    "\n",
    "# Let's print the first entries in all the groups formed. \n",
    "gp.first() "
   ]
  },
  {
   "cell_type": "code",
   "execution_count": 6,
   "metadata": {},
   "outputs": [
    {
     "data": {
      "text/plain": [
       "array(['England', 'Pakistan', 'Sri Lanka', 'Australia', 'South Africa',\n",
       "       'New Zealand', 'Bangladesh', 'West Indies', 'India', 'Zimbabwe',\n",
       "       'Ireland', 'Scotland', 'Kenya', 'Bermuda', 'Netherlands', 'Canada',\n",
       "       'Asia XI', 'Afghanistan', 'United Arab Emirates', 'Hong Kong',\n",
       "       'Papua New Guinea'], dtype=object)"
      ]
     },
     "execution_count": 6,
     "metadata": {},
     "output_type": "execute_result"
    }
   ],
   "source": [
    "odi_data['bat_team'].unique()"
   ]
  },
  {
   "cell_type": "markdown",
   "metadata": {},
   "source": [
    "Total 21 countries are participating in ODI."
   ]
  },
  {
   "cell_type": "code",
   "execution_count": 7,
   "metadata": {},
   "outputs": [
    {
     "data": {
      "text/plain": [
       "mid               0\n",
       "date              0\n",
       "venue             0\n",
       "bat_team          0\n",
       "bowl_team         0\n",
       "batsman           0\n",
       "bowler            0\n",
       "runs              0\n",
       "wickets           0\n",
       "overs             0\n",
       "runs_last_5       0\n",
       "wickets_last_5    0\n",
       "striker           0\n",
       "non-striker       0\n",
       "total             0\n",
       "dtype: int64"
      ]
     },
     "execution_count": 7,
     "metadata": {},
     "output_type": "execute_result"
    }
   ],
   "source": [
    "odi_data.isnull().sum()"
   ]
  },
  {
   "cell_type": "markdown",
   "metadata": {},
   "source": [
    "Means the data have not any NaN value\n"
   ]
  },
  {
   "cell_type": "code",
   "execution_count": 8,
   "metadata": {},
   "outputs": [
    {
     "data": {
      "text/plain": [
       "114.80166087677651"
      ]
     },
     "execution_count": 8,
     "metadata": {},
     "output_type": "execute_result"
    }
   ],
   "source": [
    "mean_value=odi_data['runs'].mean()\n",
    "mean_value"
   ]
  },
  {
   "cell_type": "code",
   "execution_count": 9,
   "metadata": {},
   "outputs": [
    {
     "data": {
      "text/plain": [
       "40283788"
      ]
     },
     "execution_count": 9,
     "metadata": {},
     "output_type": "execute_result"
    }
   ],
   "source": [
    "Total_run=odi_data['runs'].sum()\n",
    "Total_run"
   ]
  },
  {
   "cell_type": "markdown",
   "metadata": {},
   "source": [
    "The average number of runs, scored by each country"
   ]
  },
  {
   "cell_type": "code",
   "execution_count": 10,
   "metadata": {},
   "outputs": [
    {
     "data": {
      "text/plain": [
       "1918275.619047619"
      ]
     },
     "execution_count": 10,
     "metadata": {},
     "output_type": "execute_result"
    }
   ],
   "source": [
    "# Total 21 countries are participating in ODI.\n",
    "Avg_score=Total_run/21\n",
    "Avg_score"
   ]
  },
  {
   "cell_type": "code",
   "execution_count": 11,
   "metadata": {},
   "outputs": [
    {
     "data": {
      "text/plain": [
       "(array([ 0,  1,  2,  3,  4,  5,  6,  7,  8,  9, 10, 11, 12, 13, 14, 15, 16,\n",
       "        17, 18, 19, 20]),\n",
       " <a list of 21 Text xticklabel objects>)"
      ]
     },
     "execution_count": 11,
     "metadata": {},
     "output_type": "execute_result"
    },
    {
     "data": {
      "image/png": "[encoded data removed]",
      "text/plain": [
       "<Figure size 1080x360 with 1 Axes>"
      ]
     },
     "metadata": {
      "needs_background": "light"
     },
     "output_type": "display_data"
    }
   ],
   "source": [
    "plt.rcParams['figure.figsize'] = (15,5)\n",
    "sns.countplot(x=\"bat_team\",  data = odi_data)\n",
    "plt.xlabel('Coutry')\n",
    "plt.ylabel('frequency')\n",
    "xticks(rotation=90)"
   ]
  },
  {
   "cell_type": "code",
   "execution_count": 12,
   "metadata": {},
   "outputs": [
    {
     "data": {
      "text/plain": [
       "(array([  0,   1,   2,   3,   4,   5,   6,   7,   8,   9,  10,  11,  12,\n",
       "         13,  14,  15,  16,  17,  18,  19,  20,  21,  22,  23,  24,  25,\n",
       "         26,  27,  28,  29,  30,  31,  32,  33,  34,  35,  36,  37,  38,\n",
       "         39,  40,  41,  42,  43,  44,  45,  46,  47,  48,  49,  50,  51,\n",
       "         52,  53,  54,  55,  56,  57,  58,  59,  60,  61,  62,  63,  64,\n",
       "         65,  66,  67,  68,  69,  70,  71,  72,  73,  74,  75,  76,  77,\n",
       "         78,  79,  80,  81,  82,  83,  84,  85,  86,  87,  88,  89,  90,\n",
       "         91,  92,  93,  94,  95,  96,  97,  98,  99, 100, 101, 102, 103,\n",
       "        104, 105, 106, 107, 108, 109, 110, 111, 112, 113, 114, 115, 116,\n",
       "        117, 118, 119, 120, 121, 122, 123, 124, 125, 126, 127, 128, 129,\n",
       "        130, 131, 132, 133, 134, 135, 136, 137, 138, 139, 140, 141, 142,\n",
       "        143, 144, 145, 146, 147, 148, 149, 150, 151, 152, 153, 154, 155,\n",
       "        156, 157, 158, 159, 160, 161, 162, 163, 164, 165, 166, 167, 168,\n",
       "        169, 170, 171, 172, 173, 174, 175, 176, 177, 178, 179, 180, 181,\n",
       "        182, 183, 184, 185, 186, 187, 188, 189, 190, 191, 192, 193, 194,\n",
       "        195, 196, 197, 198, 199, 200, 201, 202, 203, 204, 205, 206, 207,\n",
       "        208, 209, 210, 211, 212, 213, 214, 215, 216, 217, 218, 219, 220,\n",
       "        221, 222, 223, 224, 225, 226, 227, 228, 229, 230, 231, 232, 233,\n",
       "        234, 235, 236, 237, 238, 239, 240, 241, 242, 243, 244, 245, 246,\n",
       "        247, 248, 249, 250, 251, 252, 253, 254, 255, 256, 257, 258, 259,\n",
       "        260, 261, 262, 263, 264, 265, 266, 267, 268, 269, 270, 271, 272,\n",
       "        273, 274, 275, 276, 277, 278, 279, 280, 281, 282, 283, 284, 285,\n",
       "        286, 287, 288, 289, 290, 291, 292, 293, 294, 295, 296, 297, 298,\n",
       "        299, 300, 301, 302, 303, 304, 305, 306, 307, 308, 309, 310, 311,\n",
       "        312, 313, 314, 315, 316, 317, 318, 319, 320, 321, 322, 323, 324,\n",
       "        325, 326, 327, 328, 329, 330, 331, 332, 333, 334, 335, 336, 337,\n",
       "        338, 339, 340, 341, 342, 343, 344, 345, 346, 347, 348, 349, 350,\n",
       "        351, 352, 353, 354, 355, 356, 357, 358, 359, 360, 361, 362, 363,\n",
       "        364, 365, 366, 367, 368, 369, 370, 371, 372, 373, 374, 375, 376,\n",
       "        377, 378, 379, 380, 381, 382, 383, 384, 385, 386, 387, 388, 389,\n",
       "        390, 391, 392, 393, 394, 395, 396, 397, 398, 399, 400, 401, 402,\n",
       "        403, 404, 405, 406, 407, 408, 409, 410, 411, 412, 413, 414, 415,\n",
       "        416, 417, 418, 419, 420, 421, 422, 423, 424, 425, 426, 427, 428,\n",
       "        429, 430, 431, 432, 433, 434, 435, 436, 437]),\n",
       " <a list of 438 Text xticklabel objects>)"
      ]
     },
     "execution_count": 12,
     "metadata": {},
     "output_type": "execute_result"
    },
    {
     "data": {
      "image/png": "[encoded data removed]",
      "text/plain": [
       "<Figure size 1080x360 with 1 Axes>"
      ]
     },
     "metadata": {
      "needs_background": "light"
     },
     "output_type": "display_data"
    }
   ],
   "source": [
    "plt.rcParams['figure.figsize'] = (15,5)\n",
    "sns.countplot(x=\"runs\",  data = odi_data)\n",
    "plt.xlabel('Coutry')\n",
    "plt.ylabel('runs')\n",
    "plt.title('Runs scored by each country ')\n",
    "xticks(rotation=90)"
   ]
  },
  {
   "cell_type": "code",
   "execution_count": 13,
   "metadata": {},
   "outputs": [
    {
     "name": "stdout",
     "output_type": "stream",
     "text": [
      "<class 'pandas.core.frame.DataFrame'>\n",
      "RangeIndex: 350899 entries, 0 to 350898\n",
      "Data columns (total 15 columns):\n",
      " #   Column          Non-Null Count   Dtype  \n",
      "---  ------          --------------   -----  \n",
      " 0   mid             350899 non-null  int64  \n",
      " 1   date            350899 non-null  object \n",
      " 2   venue           350899 non-null  object \n",
      " 3   bat_team        350899 non-null  object \n",
      " 4   bowl_team       350899 non-null  object \n",
      " 5   batsman         350899 non-null  object \n",
      " 6   bowler          350899 non-null  object \n",
      " 7   runs            350899 non-null  int64  \n",
      " 8   wickets         350899 non-null  int64  \n",
      " 9   overs           350899 non-null  float64\n",
      " 10  runs_last_5     350899 non-null  int64  \n",
      " 11  wickets_last_5  350899 non-null  int64  \n",
      " 12  striker         350899 non-null  int64  \n",
      " 13  non-striker     350899 non-null  int64  \n",
      " 14  total           350899 non-null  int64  \n",
      "dtypes: float64(1), int64(8), object(6)\n",
      "memory usage: 40.2+ MB\n"
     ]
    }
   ],
   "source": [
    "odi_data.info()"
   ]
  },
  {
   "cell_type": "code",
   "execution_count": 14,
   "metadata": {},
   "outputs": [
    {
     "data": {
      "text/plain": [
       "mid               0\n",
       "date              0\n",
       "venue             0\n",
       "bat_team          0\n",
       "bowl_team         0\n",
       "batsman           0\n",
       "bowler            0\n",
       "runs              0\n",
       "wickets           0\n",
       "overs             0\n",
       "runs_last_5       0\n",
       "wickets_last_5    0\n",
       "striker           0\n",
       "non-striker       0\n",
       "total             0\n",
       "dtype: int64"
      ]
     },
     "execution_count": 14,
     "metadata": {},
     "output_type": "execute_result"
    }
   ],
   "source": [
    "odi_data.select_dtypes(include='object').isnull().sum()>0\n",
    "odi_data.isnull().sum()"
   ]
  },
  {
   "cell_type": "code",
   "execution_count": 15,
   "metadata": {},
   "outputs": [
    {
     "data": {
      "text/plain": [
       "total             0\n",
       "non-striker       0\n",
       "striker           0\n",
       "wickets_last_5    0\n",
       "runs_last_5       0\n",
       "overs             0\n",
       "wickets           0\n",
       "runs              0\n",
       "bowler            0\n",
       "batsman           0\n",
       "bowl_team         0\n",
       "bat_team          0\n",
       "venue             0\n",
       "date              0\n",
       "mid               0\n",
       "dtype: int64"
      ]
     },
     "execution_count": 15,
     "metadata": {},
     "output_type": "execute_result"
    }
   ],
   "source": [
    "# Checking  NAN values columnwise\n",
    "\n",
    "missing_values = (odi_data.isnull().sum()).sort_values(ascending=False)\n",
    "missing_values"
   ]
  },
  {
   "cell_type": "markdown",
   "metadata": {},
   "source": [
    "#### It Means that the data have not any NaN value.Se we don't need null values from mean ,median or others."
   ]
  },
  {
   "cell_type": "code",
   "execution_count": 16,
   "metadata": {},
   "outputs": [
    {
     "data": {
      "text/html": [
       "<div>\n",
       "<style scoped>\n",
       "    .dataframe tbody tr th:only-of-type {\n",
       "        vertical-align: middle;\n",
       "    }\n",
       "\n",
       "    .dataframe tbody tr th {\n",
       "        vertical-align: top;\n",
       "    }\n",
       "\n",
       "    .dataframe thead th {\n",
       "        text-align: right;\n",
       "    }\n",
       "</style>\n",
       "<table border=\"1\" class=\"dataframe\">\n",
       "  <thead>\n",
       "    <tr style=\"text-align: right;\">\n",
       "      <th></th>\n",
       "      <th>venue</th>\n",
       "      <th>bat_team</th>\n",
       "      <th>bowl_team</th>\n",
       "      <th>batsman</th>\n",
       "      <th>bowler</th>\n",
       "      <th>runs</th>\n",
       "      <th>wickets</th>\n",
       "      <th>overs</th>\n",
       "      <th>runs_last_5</th>\n",
       "      <th>wickets_last_5</th>\n",
       "      <th>striker</th>\n",
       "      <th>non-striker</th>\n",
       "      <th>total</th>\n",
       "    </tr>\n",
       "  </thead>\n",
       "  <tbody>\n",
       "    <tr>\n",
       "      <th>0</th>\n",
       "      <td>Civil Service Cricket Club, Stormont</td>\n",
       "      <td>England</td>\n",
       "      <td>Ireland</td>\n",
       "      <td>ME Trescothick</td>\n",
       "      <td>DT Johnston</td>\n",
       "      <td>0</td>\n",
       "      <td>0</td>\n",
       "      <td>0.1</td>\n",
       "      <td>0</td>\n",
       "      <td>0</td>\n",
       "      <td>0</td>\n",
       "      <td>0</td>\n",
       "      <td>301</td>\n",
       "    </tr>\n",
       "    <tr>\n",
       "      <th>1</th>\n",
       "      <td>Civil Service Cricket Club, Stormont</td>\n",
       "      <td>England</td>\n",
       "      <td>Ireland</td>\n",
       "      <td>ME Trescothick</td>\n",
       "      <td>DT Johnston</td>\n",
       "      <td>0</td>\n",
       "      <td>0</td>\n",
       "      <td>0.2</td>\n",
       "      <td>0</td>\n",
       "      <td>0</td>\n",
       "      <td>0</td>\n",
       "      <td>0</td>\n",
       "      <td>301</td>\n",
       "    </tr>\n",
       "    <tr>\n",
       "      <th>2</th>\n",
       "      <td>Civil Service Cricket Club, Stormont</td>\n",
       "      <td>England</td>\n",
       "      <td>Ireland</td>\n",
       "      <td>ME Trescothick</td>\n",
       "      <td>DT Johnston</td>\n",
       "      <td>4</td>\n",
       "      <td>0</td>\n",
       "      <td>0.3</td>\n",
       "      <td>4</td>\n",
       "      <td>0</td>\n",
       "      <td>0</td>\n",
       "      <td>0</td>\n",
       "      <td>301</td>\n",
       "    </tr>\n",
       "    <tr>\n",
       "      <th>3</th>\n",
       "      <td>Civil Service Cricket Club, Stormont</td>\n",
       "      <td>England</td>\n",
       "      <td>Ireland</td>\n",
       "      <td>ME Trescothick</td>\n",
       "      <td>DT Johnston</td>\n",
       "      <td>6</td>\n",
       "      <td>0</td>\n",
       "      <td>0.4</td>\n",
       "      <td>6</td>\n",
       "      <td>0</td>\n",
       "      <td>0</td>\n",
       "      <td>0</td>\n",
       "      <td>301</td>\n",
       "    </tr>\n",
       "    <tr>\n",
       "      <th>4</th>\n",
       "      <td>Civil Service Cricket Club, Stormont</td>\n",
       "      <td>England</td>\n",
       "      <td>Ireland</td>\n",
       "      <td>ME Trescothick</td>\n",
       "      <td>DT Johnston</td>\n",
       "      <td>6</td>\n",
       "      <td>0</td>\n",
       "      <td>0.5</td>\n",
       "      <td>6</td>\n",
       "      <td>0</td>\n",
       "      <td>0</td>\n",
       "      <td>0</td>\n",
       "      <td>301</td>\n",
       "    </tr>\n",
       "  </tbody>\n",
       "</table>\n",
       "</div>"
      ],
      "text/plain": [
       "                                  venue bat_team bowl_team         batsman  \\\n",
       "0  Civil Service Cricket Club, Stormont  England   Ireland  ME Trescothick   \n",
       "1  Civil Service Cricket Club, Stormont  England   Ireland  ME Trescothick   \n",
       "2  Civil Service Cricket Club, Stormont  England   Ireland  ME Trescothick   \n",
       "3  Civil Service Cricket Club, Stormont  England   Ireland  ME Trescothick   \n",
       "4  Civil Service Cricket Club, Stormont  England   Ireland  ME Trescothick   \n",
       "\n",
       "        bowler  runs  wickets  overs  runs_last_5  wickets_last_5  striker  \\\n",
       "0  DT Johnston     0        0    0.1            0               0        0   \n",
       "1  DT Johnston     0        0    0.2            0               0        0   \n",
       "2  DT Johnston     4        0    0.3            4               0        0   \n",
       "3  DT Johnston     6        0    0.4            6               0        0   \n",
       "4  DT Johnston     6        0    0.5            6               0        0   \n",
       "\n",
       "   non-striker  total  \n",
       "0            0    301  \n",
       "1            0    301  \n",
       "2            0    301  \n",
       "3            0    301  \n",
       "4            0    301  "
      ]
     },
     "execution_count": 16,
     "metadata": {},
     "output_type": "execute_result"
    }
   ],
   "source": [
    "# Remove date and mid Column \n",
    "\n",
    "odi_data.drop(['date','mid'], axis=1, inplace=True)\n",
    "odi_data.head()"
   ]
  },
  {
   "cell_type": "markdown",
   "metadata": {},
   "source": [
    "### One hot encoding"
   ]
  },
  {
   "cell_type": "code",
   "execution_count": 17,
   "metadata": {},
   "outputs": [
    {
     "data": {
      "text/plain": [
       "array(['Civil Service Cricket Club, Stormont', 'The Rose Bowl',\n",
       "       'Trent Bridge', 'Edgbaston', \"Lord's\", 'Kennington Oval',\n",
       "       'Riverside Ground', 'Old Trafford', 'Headingley',\n",
       "       'Brisbane Cricket Ground, Woolloongabba', 'Docklands Stadium',\n",
       "       'Sydney Cricket Ground', 'Adelaide Oval',\n",
       "       'Western Australia Cricket Association Ground', 'Bellerive Oval',\n",
       "       'Jade Stadium', 'Westpac Stadium', 'Rawalpindi Cricket Stadium',\n",
       "       'Gaddafi Stadium', 'Multan Cricket Stadium', 'National Stadium',\n",
       "       'Shaheed Chandu Stadium', 'Chittagong Divisional Stadium',\n",
       "       'Narayanganj Osmani Stadium', 'Queenstown Events Centre',\n",
       "       'McLean Park', 'Eden Park', 'Feroz Shah Kotla',\n",
       "       'Nahar Singh Stadium', 'Nehru Stadium, Fatorda', 'Keenan Stadium',\n",
       "       'Maharani Usharaje Trust Cricket Ground', 'Newlands',\n",
       "       \"St George's Park\", 'Kingsmead', 'New Wanderers Stadium',\n",
       "       'R Premadasa Stadium', 'Sinhalese Sports Club Ground',\n",
       "       \"Antigua Recreation Ground, St John's\",\n",
       "       'Beausejour Stadium, Gros Islet',\n",
       "       \"Queen's Park Oval, Port of Spain\", 'Sabina Park, Kingston',\n",
       "       'Warner Park, Basseterre', 'Sheikh Zayed Stadium',\n",
       "       'Sir Vivian Richards Stadium, North Sound', 'Providence Stadium',\n",
       "       \"National Cricket Stadium, St George's\",\n",
       "       'Kensington Oval, Bridgetown', 'Harare Sports Club',\n",
       "       'SuperSport Park', 'Melbourne Cricket Ground',\n",
       "       'Gymkhana Club Ground',\n",
       "       'Punjab Cricket Association Stadium, Mohali',\n",
       "       'Sardar Patel Stadium, Motera', 'Sawai Mansingh Stadium',\n",
       "       'Brabourne Stadium', 'Seddon Park', 'Goodyear Park',\n",
       "       'Kinrara Academy Oval', 'Sedgars Park', 'Iqbal Stadium',\n",
       "       'County Ground', 'Willowmoore Park', 'Buffalo Park',\n",
       "       'Shere Bangla National Stadium', 'Ruaraka Sports Club Ground',\n",
       "       'Jaffery Sports Club Ground', 'MA Chidambaram Stadium, Chepauk',\n",
       "       'Indian Petrochemicals Corporation Limited Sports Complex Ground',\n",
       "       'Madhavrao Scindia Cricket Ground',\n",
       "       'Andhra Cricket Association-Visakhapatnam District Cricket Association Stadium',\n",
       "       'M Chinnaswamy Stadium', 'Rangiri Dambulla International Stadium',\n",
       "       'P Saravanamuttu Stadium', 'Nehru Stadium',\n",
       "       'Rajiv Gandhi International Stadium, Uppal', 'Sector 16 Stadium',\n",
       "       'Reliance Stadium', 'Vidarbha Cricket Association Ground',\n",
       "       'Wankhede Stadium', 'Green Park', 'Captain Roop Singh Stadium',\n",
       "       'Queens Sports Club', 'Arnos Vale Ground, Kingstown',\n",
       "       'Clontarf Cricket Club Ground', 'Niaz Stadium, Hyderabad',\n",
       "       'Sheikhupura Stadium', 'Marrara Cricket Ground', 'Senwes Park',\n",
       "       'OUTsurance Oval', 'Barabati Stadium', 'AMI Stadium',\n",
       "       'Dubai Sports City Cricket Stadium', 'Windsor Park, Roseau',\n",
       "       'Maple Leaf North-West Ground',\n",
       "       'Vidarbha Cricket Association Stadium, Jamtha',\n",
       "       'Zohur Ahmed Chowdhury Stadium', 'University Oval',\n",
       "       'Sophia Gardens', 'Eden Gardens',\n",
       "       'Mahinda Rajapaksa International Cricket Stadium, Sooriyawewa',\n",
       "       'Pallekele International Cricket Stadium',\n",
       "       'Zahur Ahmed Chowdhury Stadium', 'VRA Ground',\n",
       "       'Cambusdoon New Ground', 'Dubai International Cricket Stadium',\n",
       "       'Dr. Y.S. Rajasekhara Reddy ACA-VDCA Cricket Stadium',\n",
       "       'Boland Park', 'De Beers Diamond Oval', 'Cobham Oval (New)',\n",
       "       'Sharjah Cricket Stadium', 'Holkar Cricket Stadium',\n",
       "       'Mombasa Sports Club Ground',\n",
       "       'Saurashtra Cricket Association Stadium',\n",
       "       'JSCA International Stadium Complex',\n",
       "       'Himachal Pradesh Cricket Association Stadium',\n",
       "       'The Village, Malahide', 'Chevrolet Park',\n",
       "       'Sharjah Cricket Association Stadium', 'Manuka Oval',\n",
       "       'Sheikh Abu Naser Stadium', 'ICC Global Cricket Academy',\n",
       "       'Grange Cricket Club Ground, Raeburn Place',\n",
       "       'Maharashtra Cricket Association Stadium', 'Hagley Oval',\n",
       "       'Saxton Oval', 'Khan Shaheb Osman Ali Stadium',\n",
       "       'Bert Sutcliffe Oval', 'Bay Oval', 'ICC Academy', 'Basin Reserve',\n",
       "       'Mission Road Ground, Mong Kok', 'Malahide',\n",
       "       'Greater Noida Sports Complex Ground',\n",
       "       'Darren Sammy National Cricket Stadium, Gros Islet',\n",
       "       'Galle International Stadium'], dtype=object)"
      ]
     },
     "execution_count": 17,
     "metadata": {},
     "output_type": "execute_result"
    }
   ],
   "source": [
    "odi_data['venue'].unique() "
   ]
  },
  {
   "cell_type": "code",
   "execution_count": 18,
   "metadata": {
    "scrolled": true
   },
   "outputs": [
    {
     "data": {
      "text/plain": [
       "array([ 19, 121, 123,  31,  58,  53,  97,  84,  42,  13,  25, 120,   1,\n",
       "       130,   9,  50, 131,  95,  33,  73,  77, 108,  18,  75,  91,  69,\n",
       "        30,  32,  74,  79,  52,  62,  81, 118,  56,  80,  92, 115,   3,\n",
       "         8,  89,  99, 129, 112, 116,  87,  76,  54,  41, 119,  70,  39,\n",
       "        88, 100, 102,  12, 105,  35,  57, 106,  48,  22, 132,  14, 114,\n",
       "        98,  51,  60,  47,  61,   2,  59,  94,  85,  78,  93, 104,  96,\n",
       "       126, 128,  38,  16,  90,   4,  20,  82, 113,  68, 107,  83,   5,\n",
       "         0,  28, 133,  67, 127, 135, 124, 117,  29,  64,  86, 134, 125,\n",
       "        15,  27,  26,  11,  24,  21, 110,  44,  72, 101,  49,  43, 122,\n",
       "        17, 109,  66, 111,  46,  36,  63,  40, 103,  55,  10,   7,  45,\n",
       "         6,  71,  65,  37,  23,  34])"
      ]
     },
     "execution_count": 18,
     "metadata": {},
     "output_type": "execute_result"
    }
   ],
   "source": [
    "# label_encoder object knows how to understand word labels. \n",
    "label_encoder = preprocessing.LabelEncoder() \n",
    "  \n",
    "# Encode labels in column 'Location'. \n",
    "odi_data['venue']= label_encoder.fit_transform(odi_data['venue']) \n",
    "odi_data['venue'].unique() "
   ]
  },
  {
   "cell_type": "code",
   "execution_count": 19,
   "metadata": {},
   "outputs": [
    {
     "data": {
      "text/plain": [
       "array(['England', 'Pakistan', 'Sri Lanka', 'Australia', 'South Africa',\n",
       "       'New Zealand', 'Bangladesh', 'West Indies', 'India', 'Zimbabwe',\n",
       "       'Ireland', 'Scotland', 'Kenya', 'Bermuda', 'Netherlands', 'Canada',\n",
       "       'Asia XI', 'Afghanistan', 'United Arab Emirates', 'Hong Kong',\n",
       "       'Papua New Guinea'], dtype=object)"
      ]
     },
     "execution_count": 19,
     "metadata": {},
     "output_type": "execute_result"
    }
   ],
   "source": [
    "odi_data['bat_team'].unique() "
   ]
  },
  {
   "cell_type": "code",
   "execution_count": 20,
   "metadata": {},
   "outputs": [
    {
     "data": {
      "text/plain": [
       "array([ 6, 13, 17,  2, 16, 12,  3, 19,  8, 20,  9, 15, 10,  4, 11,  5,  1,\n",
       "        0, 18,  7, 14])"
      ]
     },
     "execution_count": 20,
     "metadata": {},
     "output_type": "execute_result"
    }
   ],
   "source": [
    "odi_data['bat_team']= label_encoder.fit_transform(odi_data['bat_team']) \n",
    "odi_data['bat_team'].unique() "
   ]
  },
  {
   "cell_type": "code",
   "execution_count": 21,
   "metadata": {},
   "outputs": [
    {
     "data": {
      "text/plain": [
       "array(['Ireland', 'Pakistan', 'England', 'Sri Lanka', 'South Africa',\n",
       "       'Australia', 'New Zealand', 'India', 'West Indies', 'Bangladesh',\n",
       "       'Zimbabwe', 'Scotland', 'Bermuda', 'Netherlands', 'Canada',\n",
       "       'Kenya', 'Africa XI', 'United Arab Emirates', 'Hong Kong',\n",
       "       'Afghanistan', 'Papua New Guinea'], dtype=object)"
      ]
     },
     "execution_count": 21,
     "metadata": {},
     "output_type": "execute_result"
    }
   ],
   "source": [
    "odi_data['bowl_team'].unique() "
   ]
  },
  {
   "cell_type": "code",
   "execution_count": 22,
   "metadata": {},
   "outputs": [
    {
     "data": {
      "text/plain": [
       "array([ 9, 13,  6, 17, 16,  2, 12,  8, 19,  3, 20, 15,  4, 11,  5, 10,  1,\n",
       "       18,  7,  0, 14])"
      ]
     },
     "execution_count": 22,
     "metadata": {},
     "output_type": "execute_result"
    }
   ],
   "source": [
    "odi_data['bowl_team']= label_encoder.fit_transform(odi_data['bowl_team']) \n",
    "odi_data['bowl_team'].unique() "
   ]
  },
  {
   "cell_type": "code",
   "execution_count": 23,
   "metadata": {},
   "outputs": [
    {
     "data": {
      "text/plain": [
       "array(['ME Trescothick', 'EC Joyce', 'AJ Strauss', 'PD Collingwood',\n",
       "       'IR Bell', 'JWM Dalrymple', 'GO Jones', 'G Chapple', 'LE Plunkett',\n",
       "       'KP Pietersen', 'R Clarke', 'CMW Read', 'J Lewis', 'SCJ Broad',\n",
       "       'Mohammad Hafeez', 'Shahid Afridi', 'Younis Khan',\n",
       "       'Mohammad Yousuf', 'Inzamam-ul-Haq', 'Shoaib Malik',\n",
       "       'Abdul Razzaq', 'Kamran Akmal', 'Shoaib Akhtar', 'Naved-ul-Hasan',\n",
       "       'Imran Farhat', 'Iftikhar Anjum', 'Mohammad Asif', 'WU Tharanga',\n",
       "       'ST Jayasuriya', 'DPMD Jayawardene', 'KC Sangakkara', 'TM Dilshan',\n",
       "       'RP Arnold', 'CK Kapugedera', 'WPUJC Vaas', 'SL Malinga',\n",
       "       'CRD Fernando', 'M Muralitharan', 'MF Maharoof', 'HMCM Bandara',\n",
       "       'AN Cook', 'VS Solanki', 'TT Bresnan', 'AC Gilchrist',\n",
       "       'RT Ponting', 'SM Katich', 'DR Martyn', 'A Symonds', 'MJ Clarke',\n",
       "       'MEK Hussey', 'B Lee', 'NW Bracken', 'SR Clark', 'GD McGrath',\n",
       "       'PA Jaques', 'BJ Haddin', 'JR Hopes', 'BR Dorey', 'J Mubarak',\n",
       "       'MS Atapattu', 'WCA Ganegama', 'KMDN Kulasekara', 'GC Smith',\n",
       "       'HH Dippenaar', 'JJ van der Wath', 'JA Rudolph', 'HH Gibbs',\n",
       "       'SM Pollock', 'JM Kemp', 'PDRL Perera', 'DA Gunawardene',\n",
       "       'L Vincent', 'JM How', 'SP Fleming', 'PG Fulton', 'HJH Marshall',\n",
       "       'SB Styris', 'CL Cairns', 'BB McCullum', 'DL Vettori',\n",
       "       'JEC Franklin', 'SE Bond', 'Salman Butt', 'Umar Gul',\n",
       "       'Yasir Arafat', 'Mohammad Sami', 'NJ Astle', 'Rajin Saleh',\n",
       "       'Shahriar Nafees', 'Aftab Ahmed', 'Mohammad Ashraful',\n",
       "       'Habibul Bashar', 'Khaled Mashud', 'Khaled Mahmud',\n",
       "       'Mohammad Rafique', 'Alok Kapali', 'Mashrafe Mortaza',\n",
       "       'Syed Rasel', 'KHRK Fernando', 'KS Lokuarachchi', 'Tushar Imran',\n",
       "       'Abdur Razzak', 'Shahadat Hossain', 'CH Gayle', 'D Ganga',\n",
       "       'RS Morton', 'RR Sarwan', 'S Chanderpaul', 'WW Hinds', 'DR Smith',\n",
       "       'D Ramdin', 'IDR Bradshaw', 'FH Edwards', 'LRPL Taylor',\n",
       "       'KD Mills', 'G Gambhir', 'V Sehwag', 'R Dravid', 'Yuvraj Singh',\n",
       "       'M Kaif', 'SK Raina', 'IK Pathan', 'MS Dhoni', 'Harbhajan Singh',\n",
       "       'RP Singh', 'S Sreesanth', 'MJ Prior', 'OA Shah', 'A Flintoff',\n",
       "       'ID Blackwell', 'Kabir Ali', 'JM Anderson', 'RR Powar',\n",
       "       'Y Venugopal Rao', 'VRV Singh', 'MM Patel', 'SI Mahmood',\n",
       "       'AB de Villiers', 'MV Boucher', 'RJ Peterson', 'AJ Hall',\n",
       "       'SR Watson', 'JH Kallis', 'R Telemachus', 'KTGD Prasad',\n",
       "       'HP Rinke', 'T Duffin', 'CJ Chibhabha', 'BRM Taylor',\n",
       "       'E Chigumbura', 'GM Strydom', 'KM Dabengwa', 'NB Mahwire',\n",
       "       'RS Higgins', 'P Utseya', 'EC Rainsford', 'BC Lara', 'DJ Bravo',\n",
       "       'JE Taylor', 'V Sibanda', 'T Mupariwa', 'AJ Ireland', 'MN Samuels',\n",
       "       'CS Baugh', 'AB Agarkar', 'S Chattergoon', 'RV Uthappa',\n",
       "       'DBL Powell', 'CD Collymore', 'ML Hayden', 'BJ Hodge', 'GB Hogg',\n",
       "       'LPC Silva', 'WTS Porterfield', 'JP Bray', 'EJG Morgan',\n",
       "       \"NJ O'Brien\", 'AC Botha', \"KJ O'Brien\", 'AR White', 'DT Johnston',\n",
       "       'WK McCallan', 'D Langford-Smith', 'MP Vaughan', 'PA Nixon',\n",
       "       'SC Ganguly', 'SR Tendulkar', 'Z Khan', 'RS Bopara', 'F Kasteni',\n",
       "       'S Matsikenyeri', 'SC Williams', 'DF Watts', 'RM Haq', 'RR Watson',\n",
       "       'GM Hamilton', 'NFI McCallum', 'DR Brown', 'CJO Smith',\n",
       "       'JAR Blain', 'PJC Hoffmann', 'CD McMillan', 'JDP Oram',\n",
       "       'NS Poonia', 'CM Wright', 'GA Rogers', 'MA Ouma', 'RD Shah',\n",
       "       'AO Suji', 'SO Tikolo', 'T Mishra', 'CO Obuya', 'TM Odoyo',\n",
       "       'JK Kamande', 'LN Onyango', 'PJ Ongondo', 'HA Varaiya',\n",
       "       'LMP Simmons', 'Tamim Iqbal', 'Shakib Al Hasan', 'Mushfiqur Rahim',\n",
       "       'Javed Omar', 'MS Panesar', 'JF Mooney', 'WB Rankin', 'AG Prince',\n",
       "       'KED Carroll', 'DS Smith', 'A Nel', 'CK Langeveldt', 'H Masakadza',\n",
       "       'TV Mufambisi', 'LE Bosman', 'VVS Laxman', 'D Mongia',\n",
       "       'KD Karthik', 'A Kumble', 'CL White', 'MG Johnson', 'MR Gillespie',\n",
       "       'MJ Mason', 'MB Loye', 'CT Tremlett', 'KO Otieno', 'HS Modi',\n",
       "       'NN Odhiambo', 'JS Ababu', 'ML Patel', 'BJ Patel', 'T Kamungozi',\n",
       "       'Farhad Reza', 'MH Yardy', 'SJ Harmison', 'JS Patel', 'M Ntini',\n",
       "       'Imran Nazir', 'Azhar Mahmood', 'Abdur Rehman', 'JAH Marshall',\n",
       "       'AR Adams', 'AC Voges', 'AN Petersen', 'JP Duminy', 'Yasir Hameed',\n",
       "       'Faisal Iqbal', 'D Mohammed', 'AD Mascarenhas', 'PP Chawla',\n",
       "       'LJ Wright', 'KL Tucker', 'SD Outerbridge', 'DA Minors',\n",
       "       'IH Romaine', 'DL Hemp', 'JJ Tucker', 'LOB Cann', 'S Mukuddem',\n",
       "       'RD Steede', 'RDM Leverock', 'B Zuiderent', 'ES Szwarczynski',\n",
       "       'RN ten Doeschate', 'DLS van Bunge', 'AN Kervezee', 'TBM de Leede',\n",
       "       'PW Borren', 'LP van Troost', 'J Smits', 'MBS Jonkman',\n",
       "       'Mohammad Kashif', 'CJ Smith', 'H Durham', 'KAD Hurdle',\n",
       "       'SKW Kelly', 'GB Brent', 'Mehrab Hossain jnr', 'TMK Mawoyo',\n",
       "       'ML Nkala', 'CB Mpofu', 'AA Mulla', 'S Dhaniram', 'JM Davison',\n",
       "       'A Bagai', 'AM Samad', 'DR Chumney', 'DES Maxwell',\n",
       "       'GR Codrington', 'U Bhatti', 'AC Cummins', 'MO Jones',\n",
       "       'ADJ Pitcher', 'RT Lyons', 'DO Obuya', 'P Mustard', 'GP Swann',\n",
       "       'RJ Sidebottom', 'MDK Perera', 'MS Sinclair', 'MKDI Amerasinghe',\n",
       "       'RG Sharma', 'P Kumar', 'MN van Wyk', 'UDU Chandana',\n",
       "       'Abdul Jabbar', 'Mohammad Iqbal', 'TC Bastiampillai',\n",
       "       'AL Kandappah', 'A Shamshudeen', 'J Patraj', 'CK Hooper',\n",
       "       'D Soraine', 'Qaiser Ali', 'H Osinde', 'TR Ambrose', 'DR Flynn',\n",
       "       'GD Elliott', 'GJ Hopkins', 'TG Southee', 'J Botha', 'JA Morkel',\n",
       "       'DW Steyn', 'SR Patel', 'M Kartik', 'Misbah-ul-Haq',\n",
       "       'Sohail Tanvir', 'Fawad Alam', 'BA Parchment', 'DJG Sammy',\n",
       "       'R Rampaul', 'M Morkel', 'PA Browne', 'RN Lewis',\n",
       "       'Junaid Siddique', 'T Taibu', 'T Maruma', 'GH Bodi',\n",
       "       'VD Philander', 'MS Tshabalala', 'J Edness', 'JJ Celestine',\n",
       "       'RJ Trott', 'AR Pitcher', 'KC Hodsoll', 'RW Price', 'ML Udawatte',\n",
       "       'SE Marsh', 'XM Marshall', 'ADS Fletcher', 'SJ Benn', 'DJ Hussey',\n",
       "       'L Ronchi', 'Raqibul Hasan', 'Dhiman Ghosh', 'Mosharraf Hossain',\n",
       "       'Nazimuddin', 'DJ Reekers', 'TN de Grooth', 'HJC Mol',\n",
       "       'Mudassar Bukhari', 'E Schiferli', 'PM Seelaar', 'C Zhuwao',\n",
       "       'Nasir Jamshed', 'Kamran Hussain', 'Mahmudullah', 'Dolar Mahmud',\n",
       "       'Sarfraz Ahmed', 'BAW Mendis', 'K Weeraratne', 'T Thushara',\n",
       "       'YK Pathan', 'Nazmul Hossain', 'V Kohli', 'PP Ojha', 'S Badrinath',\n",
       "       'Bazid Khan', 'Naumanullah', 'Wahab Riaz', 'TD Paine',\n",
       "       'CJ Ferguson', 'NM Hauritz', 'JL Denly', 'AU Rashid', 'PM Siddle',\n",
       "       'BW Hilfenhaus', 'HM Amla', 'JL Ontong', 'J Louw', 'B Laughlin',\n",
       "       'RE van der Merwe', 'DA Warner', 'RJ Harris', 'SW Tait',\n",
       "       'ND McKenzie', 'VB van Jaarsveld', 'MJ Guptill', 'CD Cumming',\n",
       "       'NT Broom', 'KA Pollard', 'NO Miller', 'I Sharma', 'SE Findlay',\n",
       "       'BP Nash', 'Khurram Manzoor', 'Saeed Ajmal', 'SHT Kandamby',\n",
       "       'AD Mathews', 'RA Jadeja', 'A Nehra', 'SR Waters', 'AA Obanda',\n",
       "       'RR Patel', 'RL Bhudia', 'R McLaren', 'WD Parnell', 'KJ Coetzer',\n",
       "       'MM Iqbal', 'JH Stander', 'GEF Barnett', 'Rizwan Cheema',\n",
       "       'IS Billcliff', 'S Jyoti', 'Khurram Chohan', 'Noor Ali Zadran',\n",
       "       'Karim Sadiq', 'Mohammad Nabi', 'Nawroz Mangal',\n",
       "       'Asghar Stanikzai', 'Raees Ahmadzai', 'Samiullah Shenwari',\n",
       "       'Hasti Gul', 'Khaliq Dad', 'Hamid Hassan', 'Ahmed Shehzad',\n",
       "       'MJ North', 'Naeem Islam', 'Rubel Hossain', 'DM Richards',\n",
       "       'TM Dowlin', 'FL Reifer', 'DE Bernard', 'KOA Powell', 'DC Thomas',\n",
       "       'KAJ Roach', 'GC Tonge', 'TT Samaraweera', 'Umar Akmal',\n",
       "       'Mohammad Amir', 'JD Ryder', 'IG Butler', 'N Deonarine',\n",
       "       'Khalid Latif', 'MA Vermeulen', 'CK Coventry', 'AG Cremer',\n",
       "       'Enamul Haque jnr', 'MN Waller', 'CAK Walton', 'TL Best',\n",
       "       'DR Tuffey', 'RT Crandon', 'SM Davies', 'G Onions', 'AJ Redmond',\n",
       "       'MC Henriques', 'GA Manou', 'DE Bollinger', 'KM Jarvis',\n",
       "       'F Mutizwa', 'PJ Ingram', 'AJ McKay', 'Imrul Kayes',\n",
       "       'Shafiul Islam', 'SL Stewart', 'NL McCullum', 'CJ McKay',\n",
       "       'SPD Smith', 'Faisal Hossain', 'Jahurul Islam', 'C Kieswetter',\n",
       "       'IJL Trott', 'Suhrawadi Shuvo', 'Asad Shafiq', 'S Randiv',\n",
       "       'UWMBCA Welegedara', 'NLTC Perera', 'SO Ngoche', 'E Otieno',\n",
       "       'W Barresi', 'TLW Cooper', 'DM Bravo', 'CR Ervine', 'GA Lamb',\n",
       "       'F du Plessis', 'RW Chakabva', 'T Panyangara', 'PR Stirling',\n",
       "       'AR Cusack', 'GH Dockrell', 'JO Ngoche', 'BP Kruger', 'AD Russell',\n",
       "       'A Shahzad', 'KS Williamson', 'AF Buurman', 'Adeel Raja',\n",
       "       'CA Ingram', 'H Patel', 'ZE Surkari', 'AS Hansra', 'NR Kumar',\n",
       "       'K Whatham', 'HS Baidwan', 'WD Balaji Rao', 'JC Tredwell',\n",
       "       'JJ Krejza', 'LL Tsotsobe', 'R Ashwin', 'D Bishoo', 'LJ Woodcock',\n",
       "       'RAS Lakmal', 'AB Barath', 'DA Miller', 'JW Hastings',\n",
       "       'XJ Doherty', 'BMAJ Mendis', 'CR Woakes', 'PA Desai', 'PL Mommsen',\n",
       "       'JH Davey', 'RD Berrington', 'DR Lockhart', 'MA Parker',\n",
       "       'GD Drummond', 'JD Nel', 'Mohammad Shahzad', 'Javed Ahmadi',\n",
       "       'Noor-ul-Haq', 'Mirwais Ashraf', 'Shapoor Zadran', 'M Vijay',\n",
       "       'AM Blignaut', 'A Mishra', 'AB Dinda', 'UT Yadav', 'NV Ojha',\n",
       "       'Pankaj Singh', 'LD Chandimal', 'HDRL Thirimanne', 'Umar Amin',\n",
       "       'Shahzaib Hasan', 'BJ Watling', 'Zulqarnain Haider', 'J Theron',\n",
       "       'GW Flower', 'SW Masakadza', 'TJ Heggelman', 'MMA Jonkman',\n",
       "       'BP Loots', 'HMRKB Herath', 'WP Saha', 'JW Dernbach', 'PA Patel',\n",
       "       'AM Rahane', 'MK Tiwary', 'KO Meth', 'KA Edwards', 'A Martin',\n",
       "       'Taufeeq Umar', 'Usman Salahuddin', 'Mohammad Salman',\n",
       "       'Junaid Khan', 'DP Hyatt', 'S Dhawan', 'R Vinay Kumar',\n",
       "       'RMS Eranga', 'S Prasanna', 'JL Pattinson', 'MS Wade',\n",
       "       'DT Christian', 'MA Starc', 'PJ Forrest', 'SMSM Senanayake',\n",
       "       'NM Lyon', 'RJ Nicol', 'TWM Latham', 'DG Brownlie', 'AM Ellis',\n",
       "       'DAJ Bracewell', 'TS Nethula', 'C de Grandhomme', 'MD Bates',\n",
       "       'JM Bairstow', 'ST Finn', 'SG Borthwick', 'SC Meaker',\n",
       "       'Nasir Hossain', 'Shuvagata Hom', 'Adnan Akmal', 'GC Wilson',\n",
       "       'CKB Kulasekara', 'Aizaz Cheema', 'Azhar Ali', 'CR Brathwaite',\n",
       "       'SP Narine', 'GJ Bailey', 'D Elgar', 'Hammad Azam', 'J Charles',\n",
       "       'Gulbadin Naib', 'Zakiullah Zaki', 'Dawlat Zadran',\n",
       "       'Izatullah Dawlatzai', 'Amir Hamza', 'TJ Murtagh', 'TA Boult',\n",
       "       'JE Root', 'JC Buttler', 'B Kumar', 'Mohammed Shami',\n",
       "       'MC Sorensen', 'AJ Finch', 'JP Faulkner', 'NM Coulter-Nile',\n",
       "       'PJ Hughes', 'Fawad Ahmed', 'CH Morris', 'RK Kleinveldt',\n",
       "       'MDKJ Perera', 'Q de Kock', 'C Munro', 'JDS Neesham',\n",
       "       'MJ McClenaghan', 'F Behardien', 'Mohammad Irfan', 'HD Rutherford',\n",
       "       'GJ Maxwell', 'UT Khawaja', 'BCJ Cutting', 'KW Richardson',\n",
       "       'JO Holder', 'Anamul Haque', 'Mominul Haque', 'Sohag Gazi',\n",
       "       'V Permaul', 'R Gunasekera', 'Raza-ur-Rehman', 'Usman Limbada',\n",
       "       'Hamza Tariq', 'CT Mutombodzi', \"N M'shangwe\", 'Ehsan Adil',\n",
       "       'JNK Shannon', 'Ziaur Rahman', 'Robiul Islam', 'GS Ballance',\n",
       "       'BA Stokes', 'CJ Jordan', 'MJ Lumb', 'MM Ali', 'Sikandar Raza',\n",
       "       'AT Rayudu', 'TL Chatara', 'BV Vitori', 'MT Chinouya', 'Asad Ali',\n",
       "       'Haris Sohail', 'Imran Tahir', 'CJ Anderson', 'MR Marsh',\n",
       "       'CS MacLeod', 'HJW Gardiner', 'MW Machan', 'MH Cross',\n",
       "       'RML Taylor', 'I Wardlaw', 'Soumya Sarkar', 'Sabbir Rahman',\n",
       "       'Taskin Ahmed', 'Amjad Ali', 'AR Berenger', 'Krishna Chandran',\n",
       "       'Khurram Khan', 'SP Patil', 'Shaiman Anwar', 'Rohan Mustafa',\n",
       "       'Amjad Javed', 'Mohammad Naveed', 'JWA Taylor',\n",
       "       'Najibullah Zadran', 'Afsar Zazai', 'Mohammad Tauqir', 'AC Evans',\n",
       "       'RR Rossouw', 'PJ Cummins', 'AM Guruge', 'Sohaib Maqsood',\n",
       "       'Sohail Khan', 'JL Carter', 'A Balbirnie', 'Usman Ghani',\n",
       "       'Arafat Sunny', 'SR Thompson', 'PVD Chameera', 'SF Mire',\n",
       "       'FRJ Coleman', 'MA Leask', 'Nasir Aziz', 'PHT Kaushal',\n",
       "       'Rahat Ali', 'MJ Henry', 'Sharjeel Khan', 'Bilawal Bhatti',\n",
       "       'SMA Priyanjan', 'KDK Vithanage', 'Anwar Ali', 'D Daesrath',\n",
       "       'Junaid Siddiqui', 'K Kamyuka', 'JOA Gordon', 'D Murphy',\n",
       "       'SM Sharif', 'HK Bennett', 'AD Hales', 'HF Gurney',\n",
       "       'Shamsur Rahman', 'AP Devcich', 'SJ Myburgh', 'MR Swart',\n",
       "       'BN Cooper', 'IA Karim', 'RG Aga', 'AD Poynter', 'PC de Silva',\n",
       "       'STR Binny', 'Rahmat Shah', 'Al-Amin Hossain', 'AM Phangiso',\n",
       "       'KJ Abbott', 'SA Abbott', 'Raza Hasan', 'Zulfiqar Babar',\n",
       "       'J Anderson', 'SW Poynter', 'CA Young', 'GJ McCarter',\n",
       "       'R Mutumbami', 'LM Jongwe', 'J Nyumbu', 'Hashmatullah Shahidi',\n",
       "       'Shafiqullah', 'Irfan Ahmed', 'Skhawat Ali', 'JJ Atkinson',\n",
       "       'Nizakat Khan', 'Babar Hayat', 'Waqas Barkat', 'Ankur Sharma',\n",
       "       'Haseeb Amjad', 'Tanwir Afzal', 'Nadeem Ahmed', 'Ehsan Nawaz',\n",
       "       'JJ Roy', 'SW Billings', 'DJ Willey', 'MA Wood', 'MJ Santner',\n",
       "       'BM Wheeler', 'JA Burns', 'MP Stoinis', 'RJW Topley',\n",
       "       'FDM Karunaratne', 'AF Milne', 'JR Hazlewood', 'AR Patel',\n",
       "       'MM Sharma', 'Nasir Jamal', 'Sharafuddin Ashraf', 'Aftab Alam',\n",
       "       'Abul Hasan', 'PLS Gamage', 'N Dickwella', 'K Rabada', 'Liton Das',\n",
       "       'Jubair Hossain', 'Mustafizur Rahman', 'D Wiese',\n",
       "       'Mohammad Rizwan', 'Saad Nasim', 'Sami Aslam', 'TAM Siriwardana',\n",
       "       'Babar Azam', 'Yasir Shah', 'SS Pathirana', 'N Pradeep',\n",
       "       'KM Jadhav', 'MK Pandey', 'Gurkeerat Singh', 'R Dhawan',\n",
       "       'Iftikhar Ahmed', 'Zafar Gohar', 'Anshuman Rath', 'KD Shah',\n",
       "       'MS Chapman', 'MD Gunathilaka', 'MD Shanaka', 'BKG Mendis',\n",
       "       'JM Vince', 'Mohammad Nawaz (3)', 'Imad Wasim', 'Hasan Ali',\n",
       "       'LA Dawson', 'JDF Vandersay', 'HM Nicholls', 'IS Sodhi',\n",
       "       'Aamer Yamin', 'BB Chari', 'AR McBrine', 'WP Masakadza',\n",
       "       'T Muzarabani', 'Rashid Khan', 'TS Chisoro', 'TM Head',\n",
       "       'ST Gabriel', 'A Zampa', 'T Bavuma', 'SP Terry', 'BJ McCarthy',\n",
       "       'DJ Worrall', 'SM Boland', 'AL Phehlukwayo', 'CP Tremain',\n",
       "       'DS Weerakkody', 'DM de Silva', 'DAS Gunaratne', 'PADLR Sandakan',\n",
       "       'LD Madushanka', 'CBRLS Kumara', 'Yamin Ahmadzai', 'PJ Moor',\n",
       "       'N Madziva', 'MA Aponso', 'WIA Fernando', 'AK Perera',\n",
       "       'CD Wallace', 'CD de Lange', 'L Sreekumar', 'Mohammad Shahzad (2)',\n",
       "       'Muhammad Usman', 'Rameez Shahzad', 'Saqlain Haider',\n",
       "       'Fayyaz Ahmed', 'Ahmed Raza', 'CA Lynn', 'B Stanlake',\n",
       "       'PSP Handscomb', 'MRJ Watt', 'DT Tiripano', 'LH Ferguson',\n",
       "       'Mosaddek Hossain', 'Nurul Hasan', 'Tanbir Hayder', 'D Pretorius',\n",
       "       'JT Ball', 'HH Pandya', 'Fakhar Zaman', 'C Carter', 'Shahid Wasif',\n",
       "       'Ehsan Khan', 'Aizaz Khan', 'TP Ura', 'VV Morea', 'L Siaka',\n",
       "       'A Vala', 'S Bau', 'D Bau', 'MD Dai', 'H Hiri', 'JB Reva',\n",
       "       'CA Soper', 'N Vanua', 'KC Brathwaite', 'E Lewis', 'SD Hope',\n",
       "       'JN Mohammed', 'AR Nurse', 'PKD Chase', 'BM Duckett', 'J Yadav',\n",
       "       'TS Roland-Jones', 'GH Worker', 'SC Kuggeleijn',\n",
       "       'Mehedi Hasan Miraz', 'KL Rahul', 'Taijul Islam', 'CT Mumba',\n",
       "       'R Powell', 'GSNFG Jayasuriya', 'TK Musakanda', 'HG Munsey',\n",
       "       'CB Sole', 'BTJ Wheal', 'C McAuslan', 'Waqas Khan',\n",
       "       'Tanveer Ahmed', 'RP Burl', 'R Ngarava', 'Ghulam Shabber',\n",
       "       'Adnan Mufti', 'Imran Haider', 'Zahoor Khan', 'Mohammed Qasim',\n",
       "       'KA Hope', 'RL Chase', 'AS Joseph', 'KOK Williams', 'PWH de Silva',\n",
       "       'A Dananjaya'], dtype=object)"
      ]
     },
     "execution_count": 23,
     "metadata": {},
     "output_type": "execute_result"
    }
   ],
   "source": [
    "odi_data['batsman'].unique() "
   ]
  },
  {
   "cell_type": "code",
   "execution_count": 24,
   "metadata": {
    "scrolled": true
   },
   "outputs": [
    {
     "data": {
      "text/plain": [
       "array([520, 242,  41, 650, 341, 420, 289, 265, 484, 459, 677, 169, 359,\n",
       "       759, 576, 816, 928, 590, 352, 827,  70, 465, 826, 631, 347, 345,\n",
       "       575, 915, 799, 221, 439, 860, 711, 163, 913, 774, 175, 500, 522,\n",
       "       317,  51, 901, 871,  23, 724, 778, 226,  11, 526, 521, 101, 622,\n",
       "       790, 278, 645, 111, 413, 124, 361, 557, 906, 454, 273, 308, 392,\n",
       "       369, 309, 779, 402, 651, 194, 479, 401, 785, 652, 312, 754, 166,\n",
       "       108, 214, 382, 762, 808, 890, 925, 586, 609, 731, 818,  78, 574,\n",
       "       322, 469, 468, 583,  85, 568, 837, 445, 460, 882,  71, 815, 152,\n",
       "       185, 721, 717, 743, 916, 227, 191, 336, 255, 495, 441, 266, 896,\n",
       "       679, 929, 497, 772, 340, 559, 326, 713, 752, 533, 639,   3, 335,\n",
       "       464, 398, 715, 922, 900, 544, 768,  19, 565, 699,  37, 795, 385,\n",
       "       686, 462, 319, 839, 155, 125, 238, 288, 451, 606, 720, 642, 243,\n",
       "       109, 207, 381, 897, 843,  38, 547, 176,  16, 744, 725, 200, 147,\n",
       "       538, 112, 272, 494, 914, 409, 244, 610,  20, 448,  63, 232, 910,\n",
       "       186, 552, 646, 755, 792, 930, 719, 251, 748, 758, 205, 706, 718,\n",
       "       287, 608, 222, 160, 371, 660, 149, 378, 619, 168, 270, 505, 691,\n",
       "        54, 784, 842, 170, 863, 393, 491, 659, 303, 490, 876, 821, 598,\n",
       "       423, 560, 383, 905,  35, 444, 229,   8, 164, 300, 873, 483, 903,\n",
       "       188, 440,   4, 167, 523, 553, 530, 510, 180, 456, 321, 616, 414,\n",
       "       540, 114, 840, 261, 525, 770, 415, 501, 349,  98,  72, 370,  56,\n",
       "        24,  53, 410, 926, 259, 187,  26, 666, 487, 450, 761, 196, 338,\n",
       "       213, 391, 492, 749, 692, 693, 103, 245, 710, 215,  52, 850, 671,\n",
       "       493, 364, 511, 579, 159, 298, 435, 773, 271, 570, 864, 539, 144,\n",
       "        14, 745, 400,   0,  50, 223, 204, 291, 883,  21, 550,  30, 723,\n",
       "       219, 641, 290, 700, 518, 561, 537, 696, 640, 549, 884,  69, 577,\n",
       "       851,  43,  10, 363, 162, 192, 675, 301, 867, 224, 277, 284, 853,\n",
       "       356, 368, 234, 791, 498, 572, 834, 263, 104, 212, 685, 499, 643,\n",
       "       709, 426, 846, 841, 280, 899, 562, 358, 388, 701,  62, 438, 727,\n",
       "       541, 764, 921,  31, 769, 208, 476, 733, 236, 595, 633, 209, 865,\n",
       "       311, 596, 241, 664, 137, 629, 466, 567, 237, 812, 106, 430, 847,\n",
       "       923, 634, 894, 667, 741, 131, 630, 917, 852, 156, 614, 395,  67,\n",
       "       665, 128, 315, 396, 360, 100, 694, 197, 697, 804, 607, 898, 527,\n",
       "       148, 620, 434, 617, 332, 763, 123, 474, 807, 767,  27, 688,   7,\n",
       "       794,  15, 714, 704, 681, 908, 447, 543, 386, 279, 737, 342, 747,\n",
       "       472, 636, 467, 580, 632,  96, 728, 810, 331, 471, 323,  81, 532,\n",
       "       624, 740, 217, 861, 256, 202, 457, 201, 436, 274, 872, 888, 573,\n",
       "       376, 337, 600, 470, 508, 161,  34, 249, 548, 143, 857, 228, 722,\n",
       "       777, 267,  40, 512, 269, 203, 453, 252, 657,  39, 351, 814, 775,\n",
       "       611, 158, 789, 258, 421, 134, 339, 836,  95, 751, 887, 612, 783,\n",
       "       240, 904, 859, 216, 173, 268, 253, 726, 845, 668,  58, 281, 407,\n",
       "       121,  29,   9, 461,  32,  74, 139, 302, 931,  64, 618, 431, 320,\n",
       "       907, 374, 389, 488, 676, 182, 486, 689,  17, 195, 418, 920, 119,\n",
       "       174, 644, 662, 384, 690, 225, 506, 276, 375, 587, 422, 637, 571,\n",
       "       823, 502,  45,   6,  18, 886, 621, 673, 481, 305, 889, 819, 115,\n",
       "       937, 365, 294, 802, 854, 546, 122, 318, 912, 417, 647,  49, 536,\n",
       "       455, 432,   5, 881, 893, 585, 425, 220, 746, 687, 708, 750, 397,\n",
       "       563, 231, 507, 655, 782, 615, 698, 874, 206,  46, 198, 869, 138,\n",
       "       514, 399, 797, 766, 757, 627, 828,  75, 275, 165,  82,  97, 172,\n",
       "       786, 283, 184, 324, 357, 296, 934, 235, 354,  86, 855, 848, 380,\n",
       "       373,  99, 592, 513,  36, 411, 613, 656, 262, 153, 703, 519, 674,\n",
       "       136, 379, 531, 250, 578, 304, 285, 885, 110, 463, 406,  89, 593,\n",
       "       831, 895, 680, 736, 892, 325, 179, 602, 246, 405, 935, 738, 292,\n",
       "       105, 157, 529, 542, 829,  66, 858, 127, 564,  94, 327, 350, 154,\n",
       "       554, 177, 313, 566, 524, 707, 333, 835, 806, 880,  87,  57, 475,\n",
       "       473, 787, 820, 739,  88, 581, 419, 625,  77, 589,  22, 716, 654,\n",
       "        47, 832, 833, 394,   1, 891,  93, 793, 670, 765, 257, 504, 626,\n",
       "       653, 729, 528, 825, 132, 781, 443,  92, 183, 427, 428, 408, 189,\n",
       "       780, 314,  25, 306, 822,  55, 771, 555, 120, 334, 695,  28, 649,\n",
       "       800, 730,  84,  48, 446, 753, 735, 936, 355, 803, 142, 286, 682,\n",
       "       489, 362, 330, 813, 353, 830, 387, 635, 130, 918,  90, 329, 879,\n",
       "       623, 248, 390, 801, 210, 509, 534, 118, 367, 551, 702, 254,  33,\n",
       "       412,  61, 545, 628, 824,  79,  73, 663, 601, 429, 496, 424, 599,\n",
       "       193, 584, 805, 809, 849, 129, 927, 796, 604, 452, 535, 297, 678,\n",
       "       344, 932,  91, 442, 558, 516, 517, 116, 403, 582, 346, 328, 480,\n",
       "       377, 316, 343,  68, 107,  59, 911, 844, 734, 868, 862, 798,  13,\n",
       "       838, 788, 113, 211, 776,  44, 171, 230, 218, 199, 648, 482, 146,\n",
       "       924, 658, 603, 503, 909,  42, 150, 151, 478, 588, 597, 732, 811,\n",
       "       264,  80, 140, 102, 669, 556, 233, 485, 594, 638, 877, 190, 416,\n",
       "       310, 260, 133, 817, 247,  83, 866, 902, 477,  12, 742, 181, 515,\n",
       "       299, 372, 141, 605, 437, 239, 760, 404,  60, 661, 117, 366, 870,\n",
       "       282, 756, 569, 449, 875, 178, 684, 293, 856, 307, 145, 126, 135,\n",
       "       919, 878, 712, 683, 295,  76, 348, 933, 591, 433, 705,  65, 458,\n",
       "       672,   2])"
      ]
     },
     "execution_count": 24,
     "metadata": {},
     "output_type": "execute_result"
    }
   ],
   "source": [
    "odi_data['batsman']= label_encoder.fit_transform(odi_data['batsman']) \n",
    "odi_data['batsman'].unique() "
   ]
  },
  {
   "cell_type": "code",
   "execution_count": 25,
   "metadata": {},
   "outputs": [
    {
     "data": {
      "text/plain": [
       "array(['DT Johnston', 'D Langford-Smith', 'JF Mooney', \"KJ O'Brien\",\n",
       "       'PJK Mooney', 'WK McCallan', 'Shoaib Akhtar', 'Mohammad Asif',\n",
       "       'Abdul Razzaq', 'Naved-ul-Hasan', 'Shahid Afridi',\n",
       "       'Mohammad Hafeez', 'Shoaib Malik', 'SCJ Broad', 'J Lewis',\n",
       "       'SI Mahmood', 'JWM Dalrymple', 'PD Collingwood', 'MH Yardy',\n",
       "       'KP Pietersen', 'SJ Harmison', 'LE Plunkett', 'TT Bresnan',\n",
       "       'WPUJC Vaas', 'SL Malinga', 'CRD Fernando', 'MF Maharoof',\n",
       "       'HMCM Bandara', 'ST Jayasuriya', 'Kabir Ali', 'VS Solanki',\n",
       "       'IR Bell', 'TM Dilshan', 'SM Pollock', 'GJP Kruger', 'AJ Hall',\n",
       "       'M Zondeki', 'JH Kallis', 'GC Smith', 'DW Steyn', 'J Botha',\n",
       "       'JJ van der Wath', 'CK Langeveldt', 'B Lee', 'NW Bracken',\n",
       "       'BR Dorey', 'JR Hopes', 'A Symonds', 'GB Hogg', 'MJ Clarke',\n",
       "       'GD McGrath', 'BJ Hodge', 'SR Clark', 'PDRL Perera',\n",
       "       'KMDN Kulasekara', 'M Muralitharan', 'KD Mills', 'SE Bond',\n",
       "       'CL Cairns', 'JDP Oram', 'DL Vettori', 'SB Styris', 'IK Pathan',\n",
       "       'S Sreesanth', 'Z Khan', 'AB Agarkar', 'SR Tendulkar', 'V Sehwag',\n",
       "       'RP Singh', 'ML Lewis', 'FH Edwards', 'IDR Bradshaw', 'JE Taylor',\n",
       "       'DR Smith', 'CH Gayle', 'RN Lewis', 'RR Powar', 'KHRK Fernando',\n",
       "       'Mashrafe Mortaza', 'Syed Rasel', 'Nazmul Hossain',\n",
       "       'Mohammad Rafique', 'Alok Kapali', 'Aftab Ahmed', 'Tapash Baisya',\n",
       "       'Manjural Islam Rana', 'MG Johnson', 'MEK Hussey', 'DJ Cullen',\n",
       "       'Shahadat Hossain', 'Abdur Razzak', 'Tushar Imran', 'Rajin Saleh',\n",
       "       'MJ Cosgrove', 'JEC Franklin', 'MJ Mason', 'NJ Astle', 'JS Patel',\n",
       "       'DK Butler', 'WW Hinds', 'RR Sarwan', 'JM Anderson', 'A Flintoff',\n",
       "       'ID Blackwell', 'Harbhajan Singh', 'Yuvraj Singh', 'G Gambhir',\n",
       "       'MJ Hoggard', 'VRV Singh', 'SR Watson', 'M Ntini', 'R Telemachus',\n",
       "       'RJ Peterson', 'JM Kemp', 'Iftikhar Anjum', 'DJ Bravo',\n",
       "       'EC Rainsford', 'NB Mahwire', 'T Mupariwa', 'CJ Chibhabha',\n",
       "       'P Utseya', 'GM Strydom', 'CD Collymore', 'D Mohammed',\n",
       "       'MN Samuels', 'KO Meth', 'HP Rinke', 'RS Higgins', 'MM Patel',\n",
       "       'Umar Gul', 'Danish Kaneria', 'PJC Hoffmann', 'JAR Blain',\n",
       "       'CM Wright', 'DR Brown', 'GA Rogers', 'RM Haq', 'KAD Hurdle',\n",
       "       'S Mukuddem', 'JJ Tucker', 'RDM Leverock', 'DCC Borden',\n",
       "       'LOB Cann', 'IH Romaine', 'CB Mpofu', 'E Chigumbura', 'GB Brent',\n",
       "       'SC Williams', 'S Matsikenyeri', 'WF Stelling', 'DJ Reekers',\n",
       "       'RN ten Doeschate', 'TBM de Leede', 'PW Borren', 'DLS van Bunge',\n",
       "       'LP van Troost', 'Shakib Al Hasan', 'MBS Jonkman', 'Adeel Raja',\n",
       "       'AC Cummins', 'U Bhatti', 'JM Davison', 'AM Samad',\n",
       "       'GR Codrington', 'S Dhaniram', 'MO Jones', 'DL Hemp', 'DBL Powell',\n",
       "       'TM Odoyo', 'PJ Ongondo', 'LN Onyango', 'JK Kamande', 'HA Varaiya',\n",
       "       'SO Tikolo', 'Mohammad Kashif', 'H Osinde', 'KT Sandher',\n",
       "       'SC Ganguly', 'RS Bopara', 'MS Panesar', 'WB Rankin', 'AC Botha',\n",
       "       'AR White', 'SW Tait', 'CD McMillan', 'MP Vaughan', 'A Nel',\n",
       "       'KA Pollard', 'MR Gillespie', 'Farhad Reza', 'D Mongia',\n",
       "       'A Kumble', 'CL White', 'LRPL Taylor', 'CT Tremlett', 'AJ Ireland',\n",
       "       'T Kamungozi', 'Yasir Arafat', 'Mohammad Sami', 'AR Adams',\n",
       "       'DR Tuffey', 'L Vincent', 'H Masakadza', 'Abdur Rehman',\n",
       "       'LMP Simmons', 'R Rampaul', 'RJ Sidebottom', 'AD Mascarenhas',\n",
       "       'PP Chawla', 'LJ Wright', 'S Thuraisingam', 'SKW Kelly',\n",
       "       'KM Dabengwa', 'Mehrab Hossain jnr', 'E Schiferli', 'NN Odhiambo',\n",
       "       'A Codrington', 'RR Emrit', 'M Morkel', 'JA Morkel', 'V Sibanda',\n",
       "       'AB de Villiers', 'GP Swann', 'OA Shah', 'MKDI Amerasinghe',\n",
       "       'CK Kapugedera', 'I Sharma', 'P Kumar', 'RG Sharma', 'RK Whelan',\n",
       "       'MJ Fourie', 'AR Cusack', 'VD Philander', 'Mahmudullah',\n",
       "       'E Otieno', 'TG Southee', 'GD Elliott', 'M Kartik',\n",
       "       'Sohail Tanvir', 'JP Duminy', 'DJG Sammy', 'S Chattergoon',\n",
       "       'CS Martin', \"IE O'Brien\", 'JD Ryder', 'GH Bodi', 'MS Tshabalala',\n",
       "       'T Maruma', 'CO Obuya', 'AS Luseno', 'RW Price', 'N Deonarine',\n",
       "       'SJ Benn', 'NO Miller', 'PL Harris', 'AN Petersen', 'JD Nel',\n",
       "       'GD Drummond', 'RD Berrington', 'PC Connell', 'Samiullah Khan',\n",
       "       'Younis Khan', 'Kamran Hussain', 'Sohail Khan', 'Fawad Alam',\n",
       "       'Abdur Rauf', 'Wahab Riaz', 'Rizwan Ahmed', 'Zahid Shah',\n",
       "       'Fahad Alhashmi', 'Amjad Javed', 'Mohammad Tauqir', 'EHSN Silva',\n",
       "       'Saqib Ali', 'Khurram Khan', 'Arshad Ali', 'Afzaal Haider',\n",
       "       'Irfan Ahmed', 'Zain Abbas', 'Nadeem Ahmed', 'Najeeb Amar',\n",
       "       'Munir Dar', 'Dolar Mahmud', 'JPR Lamsam', 'Skhawat Ali',\n",
       "       'Aman Ali', 'YK Pathan', 'MS Gony', 'PP Ojha', 'Mansoor Amjad',\n",
       "       'Saeed Ajmal', 'T Thushara', 'BAW Mendis', 'SK Raina', 'AU Rashid',\n",
       "       'NM Hauritz', 'PM Siddle', 'G Onions', 'Naeem Islam',\n",
       "       'Junaid Siddique', 'WD Parnell', 'RE van der Merwe', 'B Geeves',\n",
       "       'DJ Hussey', 'SM Harwood', 'BW Hilfenhaus', 'GJ Batty', 'SR Patel',\n",
       "       'IG Butler', 'LS Baker', 'DE Bernard', 'Mahbubul Alam',\n",
       "       'Mohammad Ashraful', 'Rubel Hossain', 'AG Cremer', 'AD Mathews',\n",
       "       'L Balaji', 'RA Jadeja', 'IJL Trott', 'RM West', 'CS MacLeod',\n",
       "       'JH Stander', 'RR Watson', 'MM Iqbal', 'DE Bollinger',\n",
       "       'B Laughlin', 'MJ North', 'KAJ Roach', 'NT Pascal',\n",
       "       'Mohammad Amir', 'SHT Kandamby', 'KTGD Prasad', 'NL McCullum',\n",
       "       'A Nehra', 'CJ McKay', 'RJ Harris', 'Enamul Haque jnr',\n",
       "       'Khurram Chohan', 'HS Baidwan', 'Rizwan Cheema', 'GC Tonge',\n",
       "       'V Kohli', 'AM Nayar', 'MS Dhoni', 'A Mishra', 'AC Voges',\n",
       "       'KM Jarvis', 'Shafiul Islam', 'AJ McKay', 'MJ Guptill',\n",
       "       'PR Stirling', 'JC Tredwell', 'A Shahzad', 'Suhrawadi Shuvo',\n",
       "       'Mohammad Irfan', 'UWMBCA Welegedara', 'RAS Lakmal', 'S Randiv',\n",
       "       'HK Bennett', 'AS Hansra', 'WD Balaji Rao', 'BRM Taylor',\n",
       "       'SO Ngoche', 'Imran Tahir', 'JJ Krejza', 'SPD Smith',\n",
       "       'GH Dockrell', 'NLTC Perera', 'HMRKB Herath', 'Mudassar Bukhari',\n",
       "       'BA Westdijk', 'BP Loots', 'TLW Cooper', 'PM Seelaar', 'LPC Silva',\n",
       "       'TG Gordon', 'F du Plessis', 'PA Desai', 'T Panyangara', 'GA Lamb',\n",
       "       'JO Ngoche', 'AD Russell', 'D Bishoo', 'KS Williamson', 'R Ashwin',\n",
       "       'M Pushpakumara', 'TT Samaraweera', 'S Tyagi', 'LL Tsotsobe',\n",
       "       'R McLaren', 'A Mithun', 'MA Starc', 'XJ Doherty', 'JW Hastings',\n",
       "       'ST Finn', 'CR Woakes', 'NG Jones', 'Shapoor Zadran',\n",
       "       'Mirwais Ashraf', 'Asghar Stanikzai', 'Mohammad Nabi',\n",
       "       'Hamid Hassan', 'Samiullah Shenwari', 'MA Parker', 'JH Davey',\n",
       "       'RT Lyons', 'AM Blignaut', 'UT Yadav', 'AB Dinda', 'BMAJ Mendis',\n",
       "       'SW Masakadza', 'GW Flower', 'J Theron', 'IA Nicolson',\n",
       "       'R Vinay Kumar', 'A van der Merwe', 'LJ Woodcock', 'JW Dernbach',\n",
       "       'Junaid Khan', 'Hammad Azam', 'A Martin', 'MK Tiwary',\n",
       "       'PJ Cummins', 'CKB Kulasekara', 'SMSM Senanayake', 'RMS Eranga',\n",
       "       'S Prasanna', 'JL Pattinson', 'DT Christian', 'BV Vitori',\n",
       "       'MN Waller', 'M de Lange', 'VR Aaron', 'SC Meaker',\n",
       "       'Nasir Hossain', 'Shuvagata Hom', 'Aizaz Cheema', 'Zahid Hussain',\n",
       "       'Junaid Siddiqui', 'H Patel', 'DAJ Bracewell', 'RJ Nicol',\n",
       "       'GW Aldridge', 'N Ncube', \"N M'shangwe\", 'DR Briggs', 'D Elgar',\n",
       "       'SP Narine', 'Elias Sunny', 'RR Patel', 'DI Allan', 'RG Aga',\n",
       "       'T van der Gugten', 'MR Swart', 'Ahsan Malik', 'Dawlat Zadran',\n",
       "       'Gulbadin Naib', 'Amir Hamza', 'Karim Sadiq', 'Javed Ahmadi',\n",
       "       'TS Nethula', 'DR Flynn', 'TA Boult', 'AM Ellis', 'Rahat Ali',\n",
       "       'I Udana', 'R Sharma', 'N Pradeep', 'B Kumar', 'JE Root',\n",
       "       'Mohammed Shami', 'MJ McClenaghan', 'C Munro', 'BA Stokes',\n",
       "       'MA Carberry', 'CJ Jordan', 'JDS Neesham', 'RK Kleinveldt',\n",
       "       'AM Phangiso', 'F Behardien', 'GJ Maxwell', 'Azhar Ali',\n",
       "       'JP Faulkner', 'JO Holder', 'BCJ Cutting', 'TL Best', 'MR Marsh',\n",
       "       'CJ Anderson', 'Abul Hasan', 'Sohag Gazi', 'V Permaul',\n",
       "       'Mominul Haque', 'NM Odhiambo', 'NM Carter', 'I Wardlaw',\n",
       "       'RML Taylor', 'MW Machan', 'Asad Ali', 'TL Chatara', 'MJG Rippon',\n",
       "       'CH Morris', 'NM Coulter-Nile', 'MM Ali', 'SD Parry', 'JD Unadkat',\n",
       "       'MM Sharma', 'AJ Finch', 'SF Mire', 'Sikandar Raza', 'Yasir Shah',\n",
       "       'Haris Sohail', 'MC Sorensen', 'AR McBrine', 'AF Milne',\n",
       "       'Aftab Alam', 'Sohaib Maqsood', 'AC Evans', 'KJ Coetzer',\n",
       "       'Taskin Ahmed', 'Sabbir Rahman', 'Mohammad Naveed', 'AM Guruge',\n",
       "       'Krishna Chandran', 'Rohan Mustafa', 'Nawroz Mangal', 'MA Leask',\n",
       "       'Kamran Shazad', 'Shaiman Anwar', 'Ehsan Adil', 'KJ Abbott',\n",
       "       'JR Hazlewood', 'FDM Karunaratne', 'Bilawal Bhatti', 'TJ Murtagh',\n",
       "       'EJ Richardson', 'AT Rayudu', 'DS Kulkarni', 'HF Gurney',\n",
       "       'SMA Priyanjan', 'Al-Amin Hossain', 'Arafat Sunny', 'AK Perera',\n",
       "       'JOA Gordon', 'Raza-ur-Rehman', 'NR Kumar', 'VJ Kingma',\n",
       "       'SM Sharif', 'ML Cummins', 'SR Thompson', 'PC de Silva',\n",
       "       'Ziaur Rahman', 'Mohammad Talha', 'Najibullah Zadran',\n",
       "       'SS Cottrell', 'CR Brathwaite', 'Zulfiqar Babar', 'Anwar Ali',\n",
       "       'KW Richardson', 'NM Lyon', 'CA Young', 'J Anderson', 'N Madziva',\n",
       "       'LM Jongwe', 'J Nyumbu', 'M Shezi', 'DT Tiripano',\n",
       "       'Mohammad Shahzad (2)', 'Fayyaz Ahmed', 'Irfan Sajid',\n",
       "       'Ahmed Raza', 'Asad Shafiq', 'MJ Henry', 'AP Devcich',\n",
       "       'Ahmed Shehzad', 'MJ Santner', 'BM Wheeler', 'DJ Willey',\n",
       "       'MA Wood', 'AC Agar', 'HDRL Thirimanne', 'GS Sandhu',\n",
       "       'MC Henriques', 'Sharafuddin Ashraf', 'Usman Ghani',\n",
       "       'Taijul Islam', 'Jubair Hossain', 'PLS Gamage', 'AR Patel',\n",
       "       'STR Binny', 'KV Sharma', 'RJW Topley', 'K Rabada', 'D Wiese',\n",
       "       'Salman Farooq', 'A Balbirnie', 'Izatullah Dawlatzai',\n",
       "       'Mustafizur Rahman', 'IS Sodhi', 'GH Worker', 'Saad Nasim',\n",
       "       'SS Pathirana', 'TAM Siriwardana', 'Imad Wasim', 'JS Paris',\n",
       "       'SM Boland', 'Gurkeerat Singh', 'R Dhawan', 'JJ Bumrah',\n",
       "       'Bilal Asif', 'Iftikhar Ahmed', 'Y Punja', 'Umair Ali',\n",
       "       'Nasir Aziz', 'Zaheer Maqsood', 'Asif Iqbal (1)', 'BJ McCarthy',\n",
       "       'KMC Bandara', 'MD Gunathilaka', 'BKG Mendis', 'PKD Chase',\n",
       "       'Hasan Ali', 'Mohammad Nawaz (3)', 'PVD Chameera', 'JDF Vandersay',\n",
       "       'A Zampa', 'Aamer Yamin', 'WP Masakadza', 'TS Chisoro',\n",
       "       'CT Mutombodzi', 'Rashid Khan', 'T Muzarabani', 'ST Gabriel',\n",
       "       'DJ Worrall', 'AL Phehlukwayo', 'CP Tremain', 'JM Mennie',\n",
       "       'TM Head', 'D Pretorius', 'T Shamsi', 'DM de Silva',\n",
       "       'PADLR Sandakan', 'DAS Gunaratne', 'CBRLS Kumara', 'LD Madushanka',\n",
       "       'Rokhan Barakzai', 'Yamin Ahmadzai', 'Rahmat Shah',\n",
       "       'Rameez Shahzad', 'CB Sole', 'CD de Lange', 'B Stanlake',\n",
       "       'LH Ferguson', 'C de Grandhomme', 'Tanwir Afzal', 'Aizaz Khan',\n",
       "       'Tanveer Ahmed', 'Anshuman Rath', 'Ehsan Khan', 'BB Sran',\n",
       "       'YS Chahal', 'Soumya Sarkar', 'Mosaddek Hossain', 'Subashis Roy',\n",
       "       'Tanbir Hayder', 'MP Stoinis', 'JT Ball', 'HH Pandya',\n",
       "       'Fahim Ashraf', 'Rumman Raees', 'Shadab Khan', 'KM Jadhav',\n",
       "       'CA Soper', 'N Vanua', 'WT Gavera', 'S Bau', 'MD Dai', 'A Vala',\n",
       "       'H Hiri', 'K Christie', 'AR Nurse', 'JN Mohammed', 'AS Joseph',\n",
       "       'JL Carter', 'KC Brathwaite', 'Mosharraf Hossain', 'KA Maharaj',\n",
       "       'SHA Rance', 'Sunzamul Islam', 'Simi Singh', 'J Mulder',\n",
       "       'Fareed Ahmad', 'Naveen-ul-Haq', 'GSNFG Jayasuriya', 'MD Shanaka',\n",
       "       'Ehsan Nawaz', 'Nizakat Khan', 'Qadeer Ahmed', 'Imran Haider',\n",
       "       'Zahoor Khan', 'R Ngarava', 'Mehedi Hasan Miraz', 'A Nao',\n",
       "       'JB Reva', 'RP Burl', 'RL Chase', 'R Powell', 'KOK Williams',\n",
       "       'Kuldeep Yadav', 'PWH de Silva'], dtype=object)"
      ]
     },
     "execution_count": 25,
     "metadata": {},
     "output_type": "execute_result"
    }
   ],
   "source": [
    "odi_data['bowler'].unique() "
   ]
  },
  {
   "cell_type": "code",
   "execution_count": 26,
   "metadata": {},
   "outputs": [
    {
     "data": {
      "text/plain": [
       "array([168, 137, 279, 325, 491, 686, 621, 428,  54, 474, 616, 429, 622,\n",
       "       571, 262, 577, 308, 486, 385, 333, 579, 350, 658, 688, 582, 130,\n",
       "       383, 230, 602, 339, 681, 250, 653, 585, 211,  29, 369, 281, 201,\n",
       "       170, 261, 286, 121,  85, 467,  98, 302,  11, 200, 386, 205,  92,\n",
       "       593, 487, 330, 365, 321, 573, 123, 274, 158, 567, 249, 564, 701,\n",
       "        15, 595, 675, 535, 400, 188, 244, 277, 164, 114, 532, 538, 322,\n",
       "       422, 635, 477, 435,  69,  60, 664, 420, 384, 382, 150, 615,  56,\n",
       "       666, 547, 387, 278, 392, 455, 304, 156, 690, 539, 290,   2, 243,\n",
       "       236, 700, 195, 391, 680, 597, 366, 511, 522, 292, 253, 149, 177,\n",
       "       453, 638, 117, 481, 212, 111, 138, 405, 331, 232, 542, 403, 671,\n",
       "       171, 490, 267, 125, 162, 198, 528, 318, 561, 285, 516, 145, 358,\n",
       "       247, 108, 174, 199, 570, 560, 685, 152, 533, 646, 501, 159, 359,\n",
       "       618, 376,  59,  20, 667, 291,  39, 214, 559, 407, 157, 144, 655,\n",
       "       489, 357, 287, 225, 590, 431, 223, 335, 568, 541, 415, 682,  19,\n",
       "        47, 605, 112, 409,   9, 317, 410, 192, 139,   3, 124, 361, 134,\n",
       "        30, 636, 697, 436,  42, 165, 348, 222,  57, 356, 509, 523,  23,\n",
       "       497, 353, 565, 581, 326, 424, 176, 463,   1, 536, 364, 266, 676,\n",
       "        17, 213, 479, 398, 120, 239, 480, 519, 526, 388,  43, 677, 419,\n",
       "       175, 648, 204, 363, 630, 298, 155, 558, 132, 245, 271, 206, 416,\n",
       "       637, 126,  50, 544, 447, 578, 464, 493,  40, 270, 203, 515, 484,\n",
       "       610, 699, 340, 629, 193,  55, 691, 551, 704, 189,  72, 439, 178,\n",
       "       612, 344,  76,  62, 257, 706, 468, 470, 445, 173, 300, 626,  70,\n",
       "       694, 414, 498, 421, 608, 642,  89, 580,  52, 460, 496, 196, 469,\n",
       "       312, 684, 517,  82, 151, 584, 101, 209, 594, 246, 362, 146, 418,\n",
       "       427, 555,  27,  24, 347, 513, 248, 529, 131, 282, 540, 402, 147,\n",
       "        84, 394, 319, 466, 426, 576, 336, 456,   8, 119, 520, 184, 343,\n",
       "       233, 552, 202, 673,  37, 413,   5,  22, 328, 614,  31, 389, 499,\n",
       "       269,  10, 633, 430, 669, 514, 563, 229,  48, 683,  99, 589, 256,\n",
       "       284, 592, 207, 457, 231, 444,  88,  97, 652, 495, 360, 647, 186,\n",
       "       482, 640, 197, 296,  25, 135, 334, 504, 367, 659, 566, 354, 506,\n",
       "         6, 374, 692, 307, 600, 129, 454, 619, 425,  79, 432, 234, 611,\n",
       "       373, 280, 543,  34, 668,  16,  96, 604, 218, 265, 242, 512,  14,\n",
       "       352, 306, 311, 235,   4, 397, 488, 122, 588, 531, 562, 289, 167,\n",
       "       100, 406, 370, 679, 569, 473, 623,  66, 703, 313, 224, 142, 521,\n",
       "       217, 450, 448, 161, 136, 591, 183, 537, 148, 518, 643, 412,  65,\n",
       "       172, 219,  71, 342, 309, 657, 163, 644,  35, 545, 240, 510, 451,\n",
       "        83, 276, 440, 393, 104,  87, 371, 118, 275, 525,  38, 185, 210,\n",
       "        81, 299, 295,  91, 650, 411, 116,  58, 627, 674, 441, 462, 458,\n",
       "       241, 530, 417,  77, 651, 396, 115, 459, 401, 572, 272, 404,  28,\n",
       "       574, 624, 698, 237, 378,  44,  26,  61, 628,  21, 324, 665, 607,\n",
       "       433,  36, 345, 553, 476, 372, 341, 617, 180, 323, 301, 187, 103,\n",
       "       649, 179,  51, 166, 227, 587,  68,  75,  32, 297, 550, 465, 678,\n",
       "       586, 399, 596, 485, 707, 438, 471, 598, 128, 708,  74, 338, 461,\n",
       "       107, 260, 449, 355, 264, 368, 169, 437, 194, 258,  63,  78, 390,\n",
       "        41,  64, 395,  95, 153, 375,  18, 226, 215, 377, 620, 672, 660,\n",
       "       310, 494,  46, 603, 337, 524, 315, 141, 609,   0, 259, 446, 251,\n",
       "       208, 606, 599, 645, 254, 303, 583, 220, 505, 283, 102, 252, 693,\n",
       "       670, 472, 702,  80,  93, 329, 380,  94, 492, 238, 434, 500, 273,\n",
       "        13,  53, 687, 656, 133, 549, 639, 601, 154,  33, 127, 293, 654,\n",
       "       140, 641, 160, 483, 143, 110, 349, 554, 696, 546, 548, 109, 113,\n",
       "        86, 351, 105, 663,  67, 662,  73, 181,  90, 695, 631, 442, 632,\n",
       "       661, 408, 305, 228, 190, 556, 613, 327, 106, 452, 689, 557, 379,\n",
       "        12, 221, 314,  45, 294,  49, 288, 320, 443, 316, 575, 634, 625,\n",
       "       263, 191, 475, 216, 381, 182, 478, 503, 255, 705, 507, 423,   7,\n",
       "       268, 534, 527, 508, 332, 346, 502])"
      ]
     },
     "execution_count": 26,
     "metadata": {},
     "output_type": "execute_result"
    }
   ],
   "source": [
    "odi_data['bowler']= label_encoder.fit_transform(odi_data['bowler']) \n",
    "odi_data['bowler'].unique() "
   ]
  },
  {
   "cell_type": "code",
   "execution_count": 27,
   "metadata": {},
   "outputs": [
    {
     "data": {
      "text/html": [
       "<div>\n",
       "<style scoped>\n",
       "    .dataframe tbody tr th:only-of-type {\n",
       "        vertical-align: middle;\n",
       "    }\n",
       "\n",
       "    .dataframe tbody tr th {\n",
       "        vertical-align: top;\n",
       "    }\n",
       "\n",
       "    .dataframe thead th {\n",
       "        text-align: right;\n",
       "    }\n",
       "</style>\n",
       "<table border=\"1\" class=\"dataframe\">\n",
       "  <thead>\n",
       "    <tr style=\"text-align: right;\">\n",
       "      <th></th>\n",
       "      <th>venue</th>\n",
       "      <th>bat_team</th>\n",
       "      <th>bowl_team</th>\n",
       "      <th>batsman</th>\n",
       "      <th>bowler</th>\n",
       "      <th>runs</th>\n",
       "      <th>wickets</th>\n",
       "      <th>overs</th>\n",
       "      <th>runs_last_5</th>\n",
       "      <th>wickets_last_5</th>\n",
       "      <th>striker</th>\n",
       "      <th>non-striker</th>\n",
       "      <th>total</th>\n",
       "    </tr>\n",
       "  </thead>\n",
       "  <tbody>\n",
       "    <tr>\n",
       "      <th>0</th>\n",
       "      <td>19</td>\n",
       "      <td>6</td>\n",
       "      <td>9</td>\n",
       "      <td>520</td>\n",
       "      <td>168</td>\n",
       "      <td>0</td>\n",
       "      <td>0</td>\n",
       "      <td>0.1</td>\n",
       "      <td>0</td>\n",
       "      <td>0</td>\n",
       "      <td>0</td>\n",
       "      <td>0</td>\n",
       "      <td>301</td>\n",
       "    </tr>\n",
       "    <tr>\n",
       "      <th>1</th>\n",
       "      <td>19</td>\n",
       "      <td>6</td>\n",
       "      <td>9</td>\n",
       "      <td>520</td>\n",
       "      <td>168</td>\n",
       "      <td>0</td>\n",
       "      <td>0</td>\n",
       "      <td>0.2</td>\n",
       "      <td>0</td>\n",
       "      <td>0</td>\n",
       "      <td>0</td>\n",
       "      <td>0</td>\n",
       "      <td>301</td>\n",
       "    </tr>\n",
       "    <tr>\n",
       "      <th>2</th>\n",
       "      <td>19</td>\n",
       "      <td>6</td>\n",
       "      <td>9</td>\n",
       "      <td>520</td>\n",
       "      <td>168</td>\n",
       "      <td>4</td>\n",
       "      <td>0</td>\n",
       "      <td>0.3</td>\n",
       "      <td>4</td>\n",
       "      <td>0</td>\n",
       "      <td>0</td>\n",
       "      <td>0</td>\n",
       "      <td>301</td>\n",
       "    </tr>\n",
       "    <tr>\n",
       "      <th>3</th>\n",
       "      <td>19</td>\n",
       "      <td>6</td>\n",
       "      <td>9</td>\n",
       "      <td>520</td>\n",
       "      <td>168</td>\n",
       "      <td>6</td>\n",
       "      <td>0</td>\n",
       "      <td>0.4</td>\n",
       "      <td>6</td>\n",
       "      <td>0</td>\n",
       "      <td>0</td>\n",
       "      <td>0</td>\n",
       "      <td>301</td>\n",
       "    </tr>\n",
       "    <tr>\n",
       "      <th>4</th>\n",
       "      <td>19</td>\n",
       "      <td>6</td>\n",
       "      <td>9</td>\n",
       "      <td>520</td>\n",
       "      <td>168</td>\n",
       "      <td>6</td>\n",
       "      <td>0</td>\n",
       "      <td>0.5</td>\n",
       "      <td>6</td>\n",
       "      <td>0</td>\n",
       "      <td>0</td>\n",
       "      <td>0</td>\n",
       "      <td>301</td>\n",
       "    </tr>\n",
       "  </tbody>\n",
       "</table>\n",
       "</div>"
      ],
      "text/plain": [
       "   venue  bat_team  bowl_team  batsman  bowler  runs  wickets  overs  \\\n",
       "0     19         6          9      520     168     0        0    0.1   \n",
       "1     19         6          9      520     168     0        0    0.2   \n",
       "2     19         6          9      520     168     4        0    0.3   \n",
       "3     19         6          9      520     168     6        0    0.4   \n",
       "4     19         6          9      520     168     6        0    0.5   \n",
       "\n",
       "   runs_last_5  wickets_last_5  striker  non-striker  total  \n",
       "0            0               0        0            0    301  \n",
       "1            0               0        0            0    301  \n",
       "2            4               0        0            0    301  \n",
       "3            6               0        0            0    301  \n",
       "4            6               0        0            0    301  "
      ]
     },
     "execution_count": 27,
     "metadata": {},
     "output_type": "execute_result"
    }
   ],
   "source": [
    "odi_data.head()"
   ]
  },
  {
   "cell_type": "code",
   "execution_count": 28,
   "metadata": {},
   "outputs": [
    {
     "data": {
      "text/plain": [
       "array([301, 271, 235, 154, 257, 319, 261, 318, 321, 228, 245, 281, 344,\n",
       "       309, 218, 233, 282, 263, 221, 255, 224, 274, 265, 368, 288, 266,\n",
       "       161, 286, 118, 212, 195, 250, 124, 200, 276, 324, 203, 226, 294,\n",
       "       223, 289, 254, 246, 434, 130, 151, 242, 152, 198, 217, 197, 269,\n",
       "       241, 334, 353, 209, 191, 358, 279, 413, 202, 186, 331, 136, 363,\n",
       "       377, 177, 322, 104, 303, 174, 251, 247, 356, 143, 219,  91, 193,\n",
       "       243,  77, 230, 348, 300, 149, 248, 343, 290, 155, 110, 292, 205,\n",
       "       210, 270, 252, 168, 184, 302,  85, 285, 231,  80, 125, 253, 234,\n",
       "       165, 169, 213, 272, 249, 240, 258, 392, 351, 107, 153, 262, 148,\n",
       "       336, 346, 201, 162, 418, 238, 225, 278, 329, 316, 187, 178, 220,\n",
       "       146, 194, 268, 341, 259, 284, 317, 337, 211, 159, 236, 179, 239,\n",
       "       173, 137, 196, 189, 307, 182, 275,  83, 296, 306, 291, 175,  93,\n",
       "       340, 206, 323, 183, 167, 232, 273, 117, 347, 244, 181, 357, 374,\n",
       "       299, 283, 332, 308, 115, 142, 237, 330, 222, 315, 260, 176, 131,\n",
       "       264, 172, 387, 128, 127,  67, 171, 339, 188, 147, 119, 160, 328,\n",
       "       256, 320, 354, 295, 207, 216, 170, 267, 277, 312, 113, 133, 214,\n",
       "       129, 229, 350,  44, 287, 414, 370,  69, 338, 298, 327,  58, 112,\n",
       "       141, 401, 365, 333, 120, 199, 385, 192, 103, 399, 190, 293, 311,\n",
       "       139, 361, 208, 132, 280, 372, 373,  61, 304, 204, 163, 314, 138,\n",
       "       325, 227, 359, 185, 305,  74,  70, 144, 383, 342, 123, 310, 408,\n",
       "       102, 411, 417, 376, 393, 326, 156, 180, 439, 122, 215, 157, 364,\n",
       "       349, 360, 369, 297, 404, 375, 355, 438, 444, 116, 371, 367, 384,\n",
       "       378, 126, 381, 135], dtype=int64)"
      ]
     },
     "execution_count": 28,
     "metadata": {},
     "output_type": "execute_result"
    }
   ],
   "source": [
    "odi_data['total'].unique() "
   ]
  },
  {
   "cell_type": "markdown",
   "metadata": {},
   "source": [
    "### Preparing Test and Train Set"
   ]
  },
  {
   "cell_type": "code",
   "execution_count": 29,
   "metadata": {},
   "outputs": [],
   "source": [
    "X=odi_data.drop('total',axis=1)\n",
    "y=odi_data.total"
   ]
  },
  {
   "cell_type": "code",
   "execution_count": 30,
   "metadata": {},
   "outputs": [
    {
     "data": {
      "text/html": [
       "<div>\n",
       "<style scoped>\n",
       "    .dataframe tbody tr th:only-of-type {\n",
       "        vertical-align: middle;\n",
       "    }\n",
       "\n",
       "    .dataframe tbody tr th {\n",
       "        vertical-align: top;\n",
       "    }\n",
       "\n",
       "    .dataframe thead th {\n",
       "        text-align: right;\n",
       "    }\n",
       "</style>\n",
       "<table border=\"1\" class=\"dataframe\">\n",
       "  <thead>\n",
       "    <tr style=\"text-align: right;\">\n",
       "      <th></th>\n",
       "      <th>venue</th>\n",
       "      <th>bat_team</th>\n",
       "      <th>bowl_team</th>\n",
       "      <th>batsman</th>\n",
       "      <th>bowler</th>\n",
       "      <th>runs</th>\n",
       "      <th>wickets</th>\n",
       "      <th>overs</th>\n",
       "      <th>runs_last_5</th>\n",
       "      <th>wickets_last_5</th>\n",
       "      <th>striker</th>\n",
       "      <th>non-striker</th>\n",
       "    </tr>\n",
       "  </thead>\n",
       "  <tbody>\n",
       "    <tr>\n",
       "      <th>105561</th>\n",
       "      <td>119</td>\n",
       "      <td>16</td>\n",
       "      <td>6</td>\n",
       "      <td>315</td>\n",
       "      <td>658</td>\n",
       "      <td>44</td>\n",
       "      <td>2</td>\n",
       "      <td>9.4</td>\n",
       "      <td>18</td>\n",
       "      <td>2</td>\n",
       "      <td>23</td>\n",
       "      <td>4</td>\n",
       "    </tr>\n",
       "    <tr>\n",
       "      <th>29203</th>\n",
       "      <td>54</td>\n",
       "      <td>6</td>\n",
       "      <td>16</td>\n",
       "      <td>552</td>\n",
       "      <td>585</td>\n",
       "      <td>1</td>\n",
       "      <td>0</td>\n",
       "      <td>2.4</td>\n",
       "      <td>1</td>\n",
       "      <td>0</td>\n",
       "      <td>1</td>\n",
       "      <td>0</td>\n",
       "    </tr>\n",
       "    <tr>\n",
       "      <th>33086</th>\n",
       "      <td>120</td>\n",
       "      <td>12</td>\n",
       "      <td>2</td>\n",
       "      <td>785</td>\n",
       "      <td>205</td>\n",
       "      <td>37</td>\n",
       "      <td>2</td>\n",
       "      <td>12.4</td>\n",
       "      <td>22</td>\n",
       "      <td>0</td>\n",
       "      <td>17</td>\n",
       "      <td>11</td>\n",
       "    </tr>\n",
       "    <tr>\n",
       "      <th>317337</th>\n",
       "      <td>81</td>\n",
       "      <td>16</td>\n",
       "      <td>17</td>\n",
       "      <td>674</td>\n",
       "      <td>483</td>\n",
       "      <td>72</td>\n",
       "      <td>1</td>\n",
       "      <td>11.3</td>\n",
       "      <td>35</td>\n",
       "      <td>0</td>\n",
       "      <td>47</td>\n",
       "      <td>24</td>\n",
       "    </tr>\n",
       "    <tr>\n",
       "      <th>302025</th>\n",
       "      <td>44</td>\n",
       "      <td>8</td>\n",
       "      <td>16</td>\n",
       "      <td>746</td>\n",
       "      <td>364</td>\n",
       "      <td>23</td>\n",
       "      <td>1</td>\n",
       "      <td>6.5</td>\n",
       "      <td>20</td>\n",
       "      <td>0</td>\n",
       "      <td>13</td>\n",
       "      <td>5</td>\n",
       "    </tr>\n",
       "  </tbody>\n",
       "</table>\n",
       "</div>"
      ],
      "text/plain": [
       "        venue  bat_team  bowl_team  batsman  bowler  runs  wickets  overs  \\\n",
       "105561    119        16          6      315     658    44        2    9.4   \n",
       "29203      54         6         16      552     585     1        0    2.4   \n",
       "33086     120        12          2      785     205    37        2   12.4   \n",
       "317337     81        16         17      674     483    72        1   11.3   \n",
       "302025     44         8         16      746     364    23        1    6.5   \n",
       "\n",
       "        runs_last_5  wickets_last_5  striker  non-striker  \n",
       "105561           18               2       23            4  \n",
       "29203             1               0        1            0  \n",
       "33086            22               0       17           11  \n",
       "317337           35               0       47           24  \n",
       "302025           20               0       13            5  "
      ]
     },
     "execution_count": 30,
     "metadata": {},
     "output_type": "execute_result"
    }
   ],
   "source": [
    "X_train,X_test,y_train,y_test=train_test_split(X,y,test_size=0.2)\n",
    "X_train.head()"
   ]
  },
  {
   "cell_type": "code",
   "execution_count": 31,
   "metadata": {},
   "outputs": [
    {
     "data": {
      "text/plain": [
       "(280719, 12)"
      ]
     },
     "execution_count": 31,
     "metadata": {},
     "output_type": "execute_result"
    }
   ],
   "source": [
    "X_train.shape"
   ]
  },
  {
   "cell_type": "code",
   "execution_count": 32,
   "metadata": {},
   "outputs": [
    {
     "data": {
      "text/plain": [
       "(70180, 12)"
      ]
     },
     "execution_count": 32,
     "metadata": {},
     "output_type": "execute_result"
    }
   ],
   "source": [
    "X_test.shape"
   ]
  },
  {
   "cell_type": "code",
   "execution_count": 33,
   "metadata": {},
   "outputs": [
    {
     "data": {
      "text/html": [
       "<div>\n",
       "<style scoped>\n",
       "    .dataframe tbody tr th:only-of-type {\n",
       "        vertical-align: middle;\n",
       "    }\n",
       "\n",
       "    .dataframe tbody tr th {\n",
       "        vertical-align: top;\n",
       "    }\n",
       "\n",
       "    .dataframe thead th {\n",
       "        text-align: right;\n",
       "    }\n",
       "</style>\n",
       "<table border=\"1\" class=\"dataframe\">\n",
       "  <thead>\n",
       "    <tr style=\"text-align: right;\">\n",
       "      <th></th>\n",
       "      <th>venue</th>\n",
       "      <th>bat_team</th>\n",
       "      <th>bowl_team</th>\n",
       "      <th>batsman</th>\n",
       "      <th>bowler</th>\n",
       "      <th>runs</th>\n",
       "      <th>wickets</th>\n",
       "      <th>overs</th>\n",
       "      <th>runs_last_5</th>\n",
       "      <th>wickets_last_5</th>\n",
       "      <th>striker</th>\n",
       "      <th>non-striker</th>\n",
       "    </tr>\n",
       "  </thead>\n",
       "  <tbody>\n",
       "    <tr>\n",
       "      <th>165626</th>\n",
       "      <td>20</td>\n",
       "      <td>11</td>\n",
       "      <td>9</td>\n",
       "      <td>854</td>\n",
       "      <td>325</td>\n",
       "      <td>8</td>\n",
       "      <td>1</td>\n",
       "      <td>2.6</td>\n",
       "      <td>8</td>\n",
       "      <td>1</td>\n",
       "      <td>1</td>\n",
       "      <td>0</td>\n",
       "    </tr>\n",
       "    <tr>\n",
       "      <th>326566</th>\n",
       "      <td>103</td>\n",
       "      <td>3</td>\n",
       "      <td>12</td>\n",
       "      <td>876</td>\n",
       "      <td>304</td>\n",
       "      <td>86</td>\n",
       "      <td>0</td>\n",
       "      <td>18.2</td>\n",
       "      <td>18</td>\n",
       "      <td>0</td>\n",
       "      <td>41</td>\n",
       "      <td>35</td>\n",
       "    </tr>\n",
       "    <tr>\n",
       "      <th>110090</th>\n",
       "      <td>94</td>\n",
       "      <td>13</td>\n",
       "      <td>17</td>\n",
       "      <td>816</td>\n",
       "      <td>365</td>\n",
       "      <td>87</td>\n",
       "      <td>7</td>\n",
       "      <td>27.1</td>\n",
       "      <td>20</td>\n",
       "      <td>3</td>\n",
       "      <td>7</td>\n",
       "      <td>2</td>\n",
       "    </tr>\n",
       "    <tr>\n",
       "      <th>39941</th>\n",
       "      <td>12</td>\n",
       "      <td>19</td>\n",
       "      <td>2</td>\n",
       "      <td>721</td>\n",
       "      <td>597</td>\n",
       "      <td>74</td>\n",
       "      <td>4</td>\n",
       "      <td>19.6</td>\n",
       "      <td>11</td>\n",
       "      <td>0</td>\n",
       "      <td>14</td>\n",
       "      <td>3</td>\n",
       "    </tr>\n",
       "    <tr>\n",
       "      <th>166546</th>\n",
       "      <td>102</td>\n",
       "      <td>12</td>\n",
       "      <td>8</td>\n",
       "      <td>527</td>\n",
       "      <td>8</td>\n",
       "      <td>23</td>\n",
       "      <td>1</td>\n",
       "      <td>6.4</td>\n",
       "      <td>11</td>\n",
       "      <td>1</td>\n",
       "      <td>9</td>\n",
       "      <td>8</td>\n",
       "    </tr>\n",
       "  </tbody>\n",
       "</table>\n",
       "</div>"
      ],
      "text/plain": [
       "        venue  bat_team  bowl_team  batsman  bowler  runs  wickets  overs  \\\n",
       "165626     20        11          9      854     325     8        1    2.6   \n",
       "326566    103         3         12      876     304    86        0   18.2   \n",
       "110090     94        13         17      816     365    87        7   27.1   \n",
       "39941      12        19          2      721     597    74        4   19.6   \n",
       "166546    102        12          8      527       8    23        1    6.4   \n",
       "\n",
       "        runs_last_5  wickets_last_5  striker  non-striker  \n",
       "165626            8               1        1            0  \n",
       "326566           18               0       41           35  \n",
       "110090           20               3        7            2  \n",
       "39941            11               0       14            3  \n",
       "166546           11               1        9            8  "
      ]
     },
     "execution_count": 33,
     "metadata": {},
     "output_type": "execute_result"
    }
   ],
   "source": [
    "X_test.head()"
   ]
  },
  {
   "cell_type": "markdown",
   "metadata": {},
   "source": [
    "#### Feature scaling"
   ]
  },
  {
   "cell_type": "code",
   "execution_count": 34,
   "metadata": {},
   "outputs": [
    {
     "data": {
      "text/plain": [
       "Index(['venue', 'bat_team', 'bowl_team', 'batsman', 'bowler', 'runs',\n",
       "       'wickets', 'overs', 'runs_last_5', 'wickets_last_5', 'striker',\n",
       "       'non-striker'],\n",
       "      dtype='object')"
      ]
     },
     "execution_count": 34,
     "metadata": {},
     "output_type": "execute_result"
    }
   ],
   "source": [
    "# storing column names in cols\n",
    "# scaling (the dataframe is converted to a numpy array)\n",
    "\n",
    "cols = X.columns\n",
    "cols = X.columns\n",
    "X = pd.DataFrame(scale(X))\n",
    "X.columns = cols\n",
    "X.columns"
   ]
  },
  {
   "cell_type": "markdown",
   "metadata": {},
   "source": [
    "### LINEAR REGRESSION"
   ]
  },
  {
   "cell_type": "code",
   "execution_count": 35,
   "metadata": {},
   "outputs": [],
   "source": [
    "lm=LinearRegression()"
   ]
  },
  {
   "cell_type": "code",
   "execution_count": 36,
   "metadata": {},
   "outputs": [
    {
     "data": {
      "text/plain": [
       "LinearRegression(copy_X=True, fit_intercept=True, n_jobs=None, normalize=False)"
      ]
     },
     "execution_count": 36,
     "metadata": {},
     "output_type": "execute_result"
    }
   ],
   "source": [
    "lm.fit(X_train,y_train)"
   ]
  },
  {
   "cell_type": "code",
   "execution_count": 37,
   "metadata": {},
   "outputs": [],
   "source": [
    "predictions=lm.predict(X_test)"
   ]
  },
  {
   "cell_type": "code",
   "execution_count": 38,
   "metadata": {},
   "outputs": [
    {
     "data": {
      "text/plain": [
       "0.5333524291384211"
      ]
     },
     "execution_count": 38,
     "metadata": {},
     "output_type": "execute_result"
    }
   ],
   "source": [
    "metrics.r2_score(y_test,predictions)"
   ]
  },
  {
   "cell_type": "code",
   "execution_count": 39,
   "metadata": {},
   "outputs": [],
   "source": [
    "my_model = xgb.XGBRegressor(n_estimators=1000,learning_rate = 0.1)"
   ]
  },
  {
   "cell_type": "code",
   "execution_count": 40,
   "metadata": {},
   "outputs": [
    {
     "data": {
      "text/plain": [
       "XGBRegressor(base_score=0.5, booster='gbtree', colsample_bylevel=1,\n",
       "             colsample_bynode=1, colsample_bytree=1, gamma=0, gpu_id=-1,\n",
       "             importance_type='gain', interaction_constraints='',\n",
       "             learning_rate=0.1, max_delta_step=0, max_depth=6,\n",
       "             min_child_weight=1, missing=nan, monotone_constraints='()',\n",
       "             n_estimators=1000, n_jobs=0, num_parallel_tree=1,\n",
       "             objective='reg:squarederror', random_state=0, reg_alpha=0,\n",
       "             reg_lambda=1, scale_pos_weight=1, subsample=1, tree_method='exact',\n",
       "             validate_parameters=1, verbosity=None)"
      ]
     },
     "execution_count": 40,
     "metadata": {},
     "output_type": "execute_result"
    }
   ],
   "source": [
    "my_model.fit(X_train, y_train) "
   ]
  },
  {
   "cell_type": "code",
   "execution_count": 41,
   "metadata": {},
   "outputs": [],
   "source": [
    "predictions1 = my_model.predict(X_test)"
   ]
  },
  {
   "cell_type": "code",
   "execution_count": 42,
   "metadata": {},
   "outputs": [
    {
     "data": {
      "text/plain": [
       "0.9316691940387186"
      ]
     },
     "execution_count": 42,
     "metadata": {},
     "output_type": "execute_result"
    }
   ],
   "source": [
    "metrics.r2_score(y_test,predictions1)"
   ]
  },
  {
   "cell_type": "markdown",
   "metadata": {},
   "source": [
    "### Decision Tree Regression\n"
   ]
  },
  {
   "cell_type": "code",
   "execution_count": 47,
   "metadata": {},
   "outputs": [],
   "source": [
    "X = odi_data['venue'].values\n",
    "y = odi_data['total'].values"
   ]
  },
  {
   "cell_type": "code",
   "execution_count": 48,
   "metadata": {},
   "outputs": [],
   "source": [
    "X_train, X_test, y_train, y_test = train_test_split(X, y, test_size = 0.05)"
   ]
  },
  {
   "cell_type": "code",
   "execution_count": 49,
   "metadata": {},
   "outputs": [
    {
     "data": {
      "text/plain": [
       "DecisionTreeRegressor(ccp_alpha=0.0, criterion='mse', max_depth=None,\n",
       "                      max_features=None, max_leaf_nodes=None,\n",
       "                      min_impurity_decrease=0.0, min_impurity_split=None,\n",
       "                      min_samples_leaf=1, min_samples_split=2,\n",
       "                      min_weight_fraction_leaf=0.0, presort='deprecated',\n",
       "                      random_state=None, splitter='best')"
      ]
     },
     "execution_count": 49,
     "metadata": {},
     "output_type": "execute_result"
    }
   ],
   "source": [
    "# Fitting Decision Tree Regression to the odi_data.\n",
    "regressor = DecisionTreeRegressor()\n",
    "regressor.fit(X_train.reshape(-1,1), y_train.reshape(-1,1))"
   ]
  },
  {
   "cell_type": "code",
   "execution_count": 51,
   "metadata": {},
   "outputs": [
    {
     "data": {
      "text/plain": [
       "array([232.82432815, 290.47942843, 276.9575299 , ..., 246.46536412,\n",
       "       235.04945968, 239.27893309])"
      ]
     },
     "execution_count": 51,
     "metadata": {},
     "output_type": "execute_result"
    }
   ],
   "source": [
    "y_pred = regressor.predict(X_test.reshape(-1,1))\n",
    "y_pred"
   ]
  },
  {
   "cell_type": "code",
   "execution_count": 52,
   "metadata": {},
   "outputs": [
    {
     "data": {
      "text/html": [
       "<div>\n",
       "<style scoped>\n",
       "    .dataframe tbody tr th:only-of-type {\n",
       "        vertical-align: middle;\n",
       "    }\n",
       "\n",
       "    .dataframe tbody tr th {\n",
       "        vertical-align: top;\n",
       "    }\n",
       "\n",
       "    .dataframe thead th {\n",
       "        text-align: right;\n",
       "    }\n",
       "</style>\n",
       "<table border=\"1\" class=\"dataframe\">\n",
       "  <thead>\n",
       "    <tr style=\"text-align: right;\">\n",
       "      <th></th>\n",
       "      <th>Real Values</th>\n",
       "      <th>Predicted Values</th>\n",
       "    </tr>\n",
       "  </thead>\n",
       "  <tbody>\n",
       "    <tr>\n",
       "      <th>0</th>\n",
       "      <td>260</td>\n",
       "      <td>232.824328</td>\n",
       "    </tr>\n",
       "    <tr>\n",
       "      <th>1</th>\n",
       "      <td>269</td>\n",
       "      <td>290.479428</td>\n",
       "    </tr>\n",
       "    <tr>\n",
       "      <th>2</th>\n",
       "      <td>240</td>\n",
       "      <td>276.957530</td>\n",
       "    </tr>\n",
       "    <tr>\n",
       "      <th>3</th>\n",
       "      <td>221</td>\n",
       "      <td>272.101258</td>\n",
       "    </tr>\n",
       "    <tr>\n",
       "      <th>4</th>\n",
       "      <td>234</td>\n",
       "      <td>234.000000</td>\n",
       "    </tr>\n",
       "    <tr>\n",
       "      <th>...</th>\n",
       "      <td>...</td>\n",
       "      <td>...</td>\n",
       "    </tr>\n",
       "    <tr>\n",
       "      <th>17540</th>\n",
       "      <td>230</td>\n",
       "      <td>254.557811</td>\n",
       "    </tr>\n",
       "    <tr>\n",
       "      <th>17541</th>\n",
       "      <td>312</td>\n",
       "      <td>238.904274</td>\n",
       "    </tr>\n",
       "    <tr>\n",
       "      <th>17542</th>\n",
       "      <td>306</td>\n",
       "      <td>246.465364</td>\n",
       "    </tr>\n",
       "    <tr>\n",
       "      <th>17543</th>\n",
       "      <td>206</td>\n",
       "      <td>235.049460</td>\n",
       "    </tr>\n",
       "    <tr>\n",
       "      <th>17544</th>\n",
       "      <td>189</td>\n",
       "      <td>239.278933</td>\n",
       "    </tr>\n",
       "  </tbody>\n",
       "</table>\n",
       "<p>17545 rows × 2 columns</p>\n",
       "</div>"
      ],
      "text/plain": [
       "       Real Values  Predicted Values\n",
       "0              260        232.824328\n",
       "1              269        290.479428\n",
       "2              240        276.957530\n",
       "3              221        272.101258\n",
       "4              234        234.000000\n",
       "...            ...               ...\n",
       "17540          230        254.557811\n",
       "17541          312        238.904274\n",
       "17542          306        246.465364\n",
       "17543          206        235.049460\n",
       "17544          189        239.278933\n",
       "\n",
       "[17545 rows x 2 columns]"
      ]
     },
     "execution_count": 52,
     "metadata": {},
     "output_type": "execute_result"
    }
   ],
   "source": [
    "df = pd.DataFrame({'Real Values':y_test.reshape(-1), 'Predicted Values':y_pred.reshape(-1)})\n",
    "df"
   ]
  },
  {
   "cell_type": "code",
   "execution_count": 53,
   "metadata": {},
   "outputs": [
    {
     "data": {
      "image/png": "[encoded data removed]",
      "text/plain": [
       "<Figure size 1080x576 with 1 Axes>"
      ]
     },
     "metadata": {
      "needs_background": "light"
     },
     "output_type": "display_data"
    }
   ],
   "source": [
    "# Visualising the Decision Tree Regression Results \n",
    "X_grid = np.arange(min(X), max(X), 0.01)\n",
    "X_grid = X_grid.reshape((len(X_grid), 1))\n",
    "plt.rcParams['figure.figsize'] = (15,8)\n",
    "plt.scatter(X_test, y_test, color = 'red')\n",
    "plt.scatter(X_test, y_pred, color = 'green')\n",
    "plt.title('Decision Tree Regression')\n",
    "plt.xlabel('venue')\n",
    "plt.ylabel('total')\n",
    "plt.show()"
   ]
  },
  {
   "cell_type": "code",
   "execution_count": 54,
   "metadata": {},
   "outputs": [
    {
     "data": {
      "image/png": "[encoded data removed]",
      "text/plain": [
       "<Figure size 1080x576 with 1 Axes>"
      ]
     },
     "metadata": {
      "needs_background": "light"
     },
     "output_type": "display_data"
    }
   ],
   "source": [
    "plt.rcParams['figure.figsize'] = (15,8)\n",
    "plt.plot(X_grid, regressor.predict(X_grid), color = 'black')\n",
    "plt.title('Decision Tree Regression')\n",
    "plt.xlabel('venue')\n",
    "plt.ylabel('total')\n",
    "plt.show()"
   ]
  },
  {
   "cell_type": "code",
   "execution_count": 55,
   "metadata": {},
   "outputs": [
    {
     "data": {
      "text/plain": [
       "array([280.])"
      ]
     },
     "execution_count": 55,
     "metadata": {},
     "output_type": "execute_result"
    }
   ],
   "source": [
    "#Prediction\n",
    "y_pred=regressor.predict([[6.5]])\n",
    "y_pred"
   ]
  },
  {
   "cell_type": "markdown",
   "metadata": {},
   "source": [
    "###  Random Forest Regression"
   ]
  },
  {
   "cell_type": "code",
   "execution_count": 56,
   "metadata": {},
   "outputs": [],
   "source": [
    "X_train, X_test, y_train, y_test = train_test_split(X, y, test_size = 0.2, random_state= 0)"
   ]
  },
  {
   "cell_type": "code",
   "execution_count": 57,
   "metadata": {},
   "outputs": [],
   "source": [
    "# create regressor object \n",
    "regressor = RandomForestRegressor(n_estimators = 100, random_state = 0) "
   ]
  },
  {
   "cell_type": "code",
   "execution_count": 58,
   "metadata": {},
   "outputs": [
    {
     "data": {
      "text/plain": [
       "RandomForestRegressor(bootstrap=True, ccp_alpha=0.0, criterion='mse',\n",
       "                      max_depth=None, max_features='auto', max_leaf_nodes=None,\n",
       "                      max_samples=None, min_impurity_decrease=0.0,\n",
       "                      min_impurity_split=None, min_samples_leaf=1,\n",
       "                      min_samples_split=2, min_weight_fraction_leaf=0.0,\n",
       "                      n_estimators=100, n_jobs=None, oob_score=False,\n",
       "                      random_state=0, verbose=0, warm_start=False)"
      ]
     },
     "execution_count": 58,
     "metadata": {},
     "output_type": "execute_result"
    }
   ],
   "source": [
    "regressor.fit(X.reshape(-1,1), y.reshape(-1,1))   "
   ]
  },
  {
   "cell_type": "code",
   "execution_count": 59,
   "metadata": {},
   "outputs": [
    {
     "data": {
      "image/png": "[encoded data removed]",
      "text/plain": [
       "<Figure size 1080x360 with 1 Axes>"
      ]
     },
     "metadata": {
      "needs_background": "light"
     },
     "output_type": "display_data"
    }
   ],
   "source": [
    "X_grid = np.arange(min(X), max(X), 0.01)                      \n",
    "X_grid = X_grid.reshape((len(X_grid), 1)) \n",
    "  \n",
    "# Scatter plot for original data\n",
    "plt.rcParams['figure.figsize'] = (15,5)\n",
    "plt.scatter(X, y, color = 'red')   \n",
    "  \n",
    "# plot predicted data \n",
    "plt.plot(X_grid, regressor.predict(X_grid), color = 'blue')  \n",
    "plt.title('Random Forest Regression') \n",
    "plt.xlabel('venue') \n",
    "plt.ylabel('total') \n",
    "plt.show()"
   ]
  },
  {
   "cell_type": "code",
   "execution_count": 60,
   "metadata": {},
   "outputs": [
    {
     "data": {
      "text/plain": [
       "array([280.])"
      ]
     },
     "execution_count": 60,
     "metadata": {},
     "output_type": "execute_result"
    }
   ],
   "source": [
    "y_pred=regressor.predict([[6.5]])\n",
    "y_pred"
   ]
  },
  {
   "cell_type": "markdown",
   "metadata": {},
   "source": [
    "As we can see Prediction value for Decision Tree Regression and Random Forest Regression are same which value is array( [ 280. ] )"
   ]
  },
  {
   "cell_type": "code",
   "execution_count": null,
   "metadata": {},
   "outputs": [],
   "source": []
  },
  {
   "cell_type": "code",
   "execution_count": null,
   "metadata": {},
   "outputs": [],
   "source": []
  }
 ],
 "metadata": {
  "kernelspec": {
   "display_name": "Python 3",
   "language": "python",
   "name": "python3"
  },
  "language_info": {
   "codemirror_mode": {
    "name": "ipython",
    "version": 3
   },
   "file_extension": ".py",
   "mimetype": "text/x-python",
   "name": "python",
   "nbconvert_exporter": "python",
   "pygments_lexer": "ipython3",
   "version": "3.7.6"
  }
 },
 "nbformat": 4,
 "nbformat_minor": 4
}
